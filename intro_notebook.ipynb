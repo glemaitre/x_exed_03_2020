{
 "cells": [
  {
   "cell_type": "markdown",
   "metadata": {},
   "source": [
    "* Go from edit mode to view mode -> Escape\n",
    "* Go from view mode to edit mode -> Enter\n",
    "* Add a cell -> view mode -> a/b\n",
    "* Execute a cell -> Ctrl + Enter\n",
    "* Execute a cell and shift to next one -> Shift + Enter\n",
    "* Copy/Cut/Paste -> view mode -> c/x/v\n",
    "* Change to markdown/code -> view mode -> m/y\n",
    "* Delete cell -> view mode -> dd"
   ]
  }
 ],
 "metadata": {
  "kernelspec": {
   "display_name": "Python 3",
   "language": "python",
   "name": "python3"
  },
  "language_info": {
   "codemirror_mode": {
    "name": "ipython",
    "version": 3
   },
   "file_extension": ".py",
   "mimetype": "text/x-python",
   "name": "python",
   "nbconvert_exporter": "python",
   "pygments_lexer": "ipython3",
   "version": "3.7.4"
  }
 },
 "nbformat": 4,
 "nbformat_minor": 4
}
