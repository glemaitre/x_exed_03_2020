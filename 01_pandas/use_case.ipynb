{
 "cells": [
  {
   "cell_type": "markdown",
   "metadata": {},
   "source": [
    "# Introduction to data exploration mainly using Pandas"
   ]
  },
  {
   "cell_type": "code",
   "execution_count": 1,
   "metadata": {},
   "outputs": [],
   "source": [
    "%matplotlib inline\n",
    "import os\n",
    "import pandas as pd\n",
    "import numpy as np\n",
    "import matplotlib.pyplot as plt"
   ]
  },
  {
   "cell_type": "markdown",
   "metadata": {},
   "source": [
    "## 1. Pandas dataframe and series"
   ]
  },
  {
   "cell_type": "markdown",
   "metadata": {},
   "source": [
    "The first step will be to open a CSV file which contain some information about some voting count of a referendum in France."
   ]
  },
  {
   "cell_type": "code",
   "execution_count": 2,
   "metadata": {},
   "outputs": [
    {
     "data": {
      "text/plain": [
       "'data/referendum.csv'"
      ]
     },
     "execution_count": 2,
     "metadata": {},
     "output_type": "execute_result"
    }
   ],
   "source": [
    "filename_referendum = os.path.join('data', 'referendum.csv')\n",
    "filename_referendum"
   ]
  },
  {
   "cell_type": "markdown",
   "metadata": {},
   "source": [
    "The data are not separated with a comma but a semi-colummn."
   ]
  },
  {
   "cell_type": "code",
   "execution_count": 3,
   "metadata": {},
   "outputs": [],
   "source": [
    "df = pd.read_csv(filename_referendum, sep=';')"
   ]
  },
  {
   "cell_type": "code",
   "execution_count": 4,
   "metadata": {},
   "outputs": [
    {
     "data": {
      "text/html": [
       "<div>\n",
       "<style scoped>\n",
       "    .dataframe tbody tr th:only-of-type {\n",
       "        vertical-align: middle;\n",
       "    }\n",
       "\n",
       "    .dataframe tbody tr th {\n",
       "        vertical-align: top;\n",
       "    }\n",
       "\n",
       "    .dataframe thead th {\n",
       "        text-align: right;\n",
       "    }\n",
       "</style>\n",
       "<table border=\"1\" class=\"dataframe\">\n",
       "  <thead>\n",
       "    <tr style=\"text-align: right;\">\n",
       "      <th></th>\n",
       "      <th>Department code</th>\n",
       "      <th>Department name</th>\n",
       "      <th>Town code</th>\n",
       "      <th>Town name</th>\n",
       "      <th>Registered</th>\n",
       "      <th>Abstentions</th>\n",
       "      <th>Null</th>\n",
       "      <th>Choice A</th>\n",
       "      <th>Choice B</th>\n",
       "    </tr>\n",
       "  </thead>\n",
       "  <tbody>\n",
       "    <tr>\n",
       "      <td>0</td>\n",
       "      <td>1</td>\n",
       "      <td>AIN</td>\n",
       "      <td>1</td>\n",
       "      <td>L'Abergement-Clémenciat</td>\n",
       "      <td>592</td>\n",
       "      <td>84</td>\n",
       "      <td>9</td>\n",
       "      <td>154</td>\n",
       "      <td>345</td>\n",
       "    </tr>\n",
       "    <tr>\n",
       "      <td>1</td>\n",
       "      <td>1</td>\n",
       "      <td>AIN</td>\n",
       "      <td>2</td>\n",
       "      <td>L'Abergement-de-Varey</td>\n",
       "      <td>215</td>\n",
       "      <td>36</td>\n",
       "      <td>5</td>\n",
       "      <td>66</td>\n",
       "      <td>108</td>\n",
       "    </tr>\n",
       "    <tr>\n",
       "      <td>2</td>\n",
       "      <td>1</td>\n",
       "      <td>AIN</td>\n",
       "      <td>4</td>\n",
       "      <td>Ambérieu-en-Bugey</td>\n",
       "      <td>8205</td>\n",
       "      <td>1698</td>\n",
       "      <td>126</td>\n",
       "      <td>2717</td>\n",
       "      <td>3664</td>\n",
       "    </tr>\n",
       "    <tr>\n",
       "      <td>3</td>\n",
       "      <td>1</td>\n",
       "      <td>AIN</td>\n",
       "      <td>5</td>\n",
       "      <td>Ambérieux-en-Dombes</td>\n",
       "      <td>1152</td>\n",
       "      <td>170</td>\n",
       "      <td>18</td>\n",
       "      <td>280</td>\n",
       "      <td>684</td>\n",
       "    </tr>\n",
       "    <tr>\n",
       "      <td>4</td>\n",
       "      <td>1</td>\n",
       "      <td>AIN</td>\n",
       "      <td>6</td>\n",
       "      <td>Ambléon</td>\n",
       "      <td>105</td>\n",
       "      <td>17</td>\n",
       "      <td>1</td>\n",
       "      <td>35</td>\n",
       "      <td>52</td>\n",
       "    </tr>\n",
       "  </tbody>\n",
       "</table>\n",
       "</div>"
      ],
      "text/plain": [
       "  Department code Department name  Town code                Town name  \\\n",
       "0               1             AIN          1  L'Abergement-Clémenciat   \n",
       "1               1             AIN          2    L'Abergement-de-Varey   \n",
       "2               1             AIN          4        Ambérieu-en-Bugey   \n",
       "3               1             AIN          5      Ambérieux-en-Dombes   \n",
       "4               1             AIN          6                  Ambléon   \n",
       "\n",
       "   Registered  Abstentions  Null  Choice A  Choice B  \n",
       "0         592           84     9       154       345  \n",
       "1         215           36     5        66       108  \n",
       "2        8205         1698   126      2717      3664  \n",
       "3        1152          170    18       280       684  \n",
       "4         105           17     1        35        52  "
      ]
     },
     "execution_count": 4,
     "metadata": {},
     "output_type": "execute_result"
    }
   ],
   "source": [
    "df.head()"
   ]
  },
  {
   "cell_type": "code",
   "execution_count": 5,
   "metadata": {},
   "outputs": [
    {
     "data": {
      "text/html": [
       "<div>\n",
       "<style scoped>\n",
       "    .dataframe tbody tr th:only-of-type {\n",
       "        vertical-align: middle;\n",
       "    }\n",
       "\n",
       "    .dataframe tbody tr th {\n",
       "        vertical-align: top;\n",
       "    }\n",
       "\n",
       "    .dataframe thead th {\n",
       "        text-align: right;\n",
       "    }\n",
       "</style>\n",
       "<table border=\"1\" class=\"dataframe\">\n",
       "  <thead>\n",
       "    <tr style=\"text-align: right;\">\n",
       "      <th></th>\n",
       "      <th>Department code</th>\n",
       "      <th>Department name</th>\n",
       "      <th>Town code</th>\n",
       "      <th>Town name</th>\n",
       "      <th>Registered</th>\n",
       "      <th>Abstentions</th>\n",
       "      <th>Null</th>\n",
       "      <th>Choice A</th>\n",
       "      <th>Choice B</th>\n",
       "    </tr>\n",
       "  </thead>\n",
       "  <tbody>\n",
       "    <tr>\n",
       "      <td>36786</td>\n",
       "      <td>ZZ</td>\n",
       "      <td>FRANCAIS DE L'ETRANGER</td>\n",
       "      <td>7</td>\n",
       "      <td>Europe centrale</td>\n",
       "      <td>89643</td>\n",
       "      <td>54981</td>\n",
       "      <td>318</td>\n",
       "      <td>17055</td>\n",
       "      <td>17289</td>\n",
       "    </tr>\n",
       "    <tr>\n",
       "      <td>36787</td>\n",
       "      <td>ZZ</td>\n",
       "      <td>FRANCAIS DE L'ETRANGER</td>\n",
       "      <td>8</td>\n",
       "      <td>Europe du Sud, Turquie, Israël</td>\n",
       "      <td>109763</td>\n",
       "      <td>84466</td>\n",
       "      <td>292</td>\n",
       "      <td>9299</td>\n",
       "      <td>15706</td>\n",
       "    </tr>\n",
       "    <tr>\n",
       "      <td>36788</td>\n",
       "      <td>ZZ</td>\n",
       "      <td>FRANCAIS DE L'ETRANGER</td>\n",
       "      <td>9</td>\n",
       "      <td>Afrique Nord-Ouest</td>\n",
       "      <td>98997</td>\n",
       "      <td>59887</td>\n",
       "      <td>321</td>\n",
       "      <td>22116</td>\n",
       "      <td>16673</td>\n",
       "    </tr>\n",
       "    <tr>\n",
       "      <td>36789</td>\n",
       "      <td>ZZ</td>\n",
       "      <td>FRANCAIS DE L'ETRANGER</td>\n",
       "      <td>10</td>\n",
       "      <td>Afrique Centre, Sud et Est</td>\n",
       "      <td>89859</td>\n",
       "      <td>46782</td>\n",
       "      <td>566</td>\n",
       "      <td>17008</td>\n",
       "      <td>25503</td>\n",
       "    </tr>\n",
       "    <tr>\n",
       "      <td>36790</td>\n",
       "      <td>ZZ</td>\n",
       "      <td>FRANCAIS DE L'ETRANGER</td>\n",
       "      <td>11</td>\n",
       "      <td>Europe de l'est, Asie, Océanie</td>\n",
       "      <td>80061</td>\n",
       "      <td>42911</td>\n",
       "      <td>488</td>\n",
       "      <td>13975</td>\n",
       "      <td>22687</td>\n",
       "    </tr>\n",
       "  </tbody>\n",
       "</table>\n",
       "</div>"
      ],
      "text/plain": [
       "      Department code         Department name  Town code  \\\n",
       "36786              ZZ  FRANCAIS DE L'ETRANGER          7   \n",
       "36787              ZZ  FRANCAIS DE L'ETRANGER          8   \n",
       "36788              ZZ  FRANCAIS DE L'ETRANGER          9   \n",
       "36789              ZZ  FRANCAIS DE L'ETRANGER         10   \n",
       "36790              ZZ  FRANCAIS DE L'ETRANGER         11   \n",
       "\n",
       "                            Town name  Registered  Abstentions  Null  \\\n",
       "36786                 Europe centrale       89643        54981   318   \n",
       "36787  Europe du Sud, Turquie, Israël      109763        84466   292   \n",
       "36788              Afrique Nord-Ouest       98997        59887   321   \n",
       "36789      Afrique Centre, Sud et Est       89859        46782   566   \n",
       "36790  Europe de l'est, Asie, Océanie       80061        42911   488   \n",
       "\n",
       "       Choice A  Choice B  \n",
       "36786     17055     17289  \n",
       "36787      9299     15706  \n",
       "36788     22116     16673  \n",
       "36789     17008     25503  \n",
       "36790     13975     22687  "
      ]
     },
     "execution_count": 5,
     "metadata": {},
     "output_type": "execute_result"
    }
   ],
   "source": [
    "df.tail()"
   ]
  },
  {
   "cell_type": "code",
   "execution_count": 6,
   "metadata": {},
   "outputs": [
    {
     "name": "stdout",
     "output_type": "stream",
     "text": [
      "<class 'pandas.core.frame.DataFrame'>\n",
      "RangeIndex: 36791 entries, 0 to 36790\n",
      "Data columns (total 9 columns):\n",
      "Department code    36791 non-null object\n",
      "Department name    36791 non-null object\n",
      "Town code          36791 non-null int64\n",
      "Town name          36791 non-null object\n",
      "Registered         36791 non-null int64\n",
      "Abstentions        36791 non-null int64\n",
      "Null               36791 non-null int64\n",
      "Choice A           36791 non-null int64\n",
      "Choice B           36791 non-null int64\n",
      "dtypes: int64(6), object(3)\n",
      "memory usage: 2.5+ MB\n"
     ]
    }
   ],
   "source": [
    "df.info()"
   ]
  },
  {
   "cell_type": "code",
   "execution_count": 9,
   "metadata": {},
   "outputs": [
    {
     "data": {
      "text/plain": [
       "RangeIndex(start=0, stop=36791, step=1)"
      ]
     },
     "execution_count": 9,
     "metadata": {},
     "output_type": "execute_result"
    }
   ],
   "source": [
    "df.index"
   ]
  },
  {
   "cell_type": "code",
   "execution_count": 10,
   "metadata": {},
   "outputs": [
    {
     "data": {
      "text/plain": [
       "Index(['Department code', 'Department name', 'Town code', 'Town name',\n",
       "       'Registered', 'Abstentions', 'Null', 'Choice A', 'Choice B'],\n",
       "      dtype='object')"
      ]
     },
     "execution_count": 10,
     "metadata": {},
     "output_type": "execute_result"
    }
   ],
   "source": [
    "df.columns"
   ]
  },
  {
   "cell_type": "markdown",
   "metadata": {},
   "source": [
    "It will be easier with we use the name of the city as an index."
   ]
  },
  {
   "cell_type": "code",
   "execution_count": 11,
   "metadata": {},
   "outputs": [],
   "source": [
    "df = df.set_index('Town name')"
   ]
  },
  {
   "cell_type": "code",
   "execution_count": 12,
   "metadata": {},
   "outputs": [
    {
     "data": {
      "text/html": [
       "<div>\n",
       "<style scoped>\n",
       "    .dataframe tbody tr th:only-of-type {\n",
       "        vertical-align: middle;\n",
       "    }\n",
       "\n",
       "    .dataframe tbody tr th {\n",
       "        vertical-align: top;\n",
       "    }\n",
       "\n",
       "    .dataframe thead th {\n",
       "        text-align: right;\n",
       "    }\n",
       "</style>\n",
       "<table border=\"1\" class=\"dataframe\">\n",
       "  <thead>\n",
       "    <tr style=\"text-align: right;\">\n",
       "      <th></th>\n",
       "      <th>Department code</th>\n",
       "      <th>Department name</th>\n",
       "      <th>Town code</th>\n",
       "      <th>Registered</th>\n",
       "      <th>Abstentions</th>\n",
       "      <th>Null</th>\n",
       "      <th>Choice A</th>\n",
       "      <th>Choice B</th>\n",
       "    </tr>\n",
       "    <tr>\n",
       "      <th>Town name</th>\n",
       "      <th></th>\n",
       "      <th></th>\n",
       "      <th></th>\n",
       "      <th></th>\n",
       "      <th></th>\n",
       "      <th></th>\n",
       "      <th></th>\n",
       "      <th></th>\n",
       "    </tr>\n",
       "  </thead>\n",
       "  <tbody>\n",
       "    <tr>\n",
       "      <td>L'Abergement-Clémenciat</td>\n",
       "      <td>1</td>\n",
       "      <td>AIN</td>\n",
       "      <td>1</td>\n",
       "      <td>592</td>\n",
       "      <td>84</td>\n",
       "      <td>9</td>\n",
       "      <td>154</td>\n",
       "      <td>345</td>\n",
       "    </tr>\n",
       "    <tr>\n",
       "      <td>L'Abergement-de-Varey</td>\n",
       "      <td>1</td>\n",
       "      <td>AIN</td>\n",
       "      <td>2</td>\n",
       "      <td>215</td>\n",
       "      <td>36</td>\n",
       "      <td>5</td>\n",
       "      <td>66</td>\n",
       "      <td>108</td>\n",
       "    </tr>\n",
       "    <tr>\n",
       "      <td>Ambérieu-en-Bugey</td>\n",
       "      <td>1</td>\n",
       "      <td>AIN</td>\n",
       "      <td>4</td>\n",
       "      <td>8205</td>\n",
       "      <td>1698</td>\n",
       "      <td>126</td>\n",
       "      <td>2717</td>\n",
       "      <td>3664</td>\n",
       "    </tr>\n",
       "    <tr>\n",
       "      <td>Ambérieux-en-Dombes</td>\n",
       "      <td>1</td>\n",
       "      <td>AIN</td>\n",
       "      <td>5</td>\n",
       "      <td>1152</td>\n",
       "      <td>170</td>\n",
       "      <td>18</td>\n",
       "      <td>280</td>\n",
       "      <td>684</td>\n",
       "    </tr>\n",
       "    <tr>\n",
       "      <td>Ambléon</td>\n",
       "      <td>1</td>\n",
       "      <td>AIN</td>\n",
       "      <td>6</td>\n",
       "      <td>105</td>\n",
       "      <td>17</td>\n",
       "      <td>1</td>\n",
       "      <td>35</td>\n",
       "      <td>52</td>\n",
       "    </tr>\n",
       "  </tbody>\n",
       "</table>\n",
       "</div>"
      ],
      "text/plain": [
       "                        Department code Department name  Town code  \\\n",
       "Town name                                                            \n",
       "L'Abergement-Clémenciat               1             AIN          1   \n",
       "L'Abergement-de-Varey                 1             AIN          2   \n",
       "Ambérieu-en-Bugey                     1             AIN          4   \n",
       "Ambérieux-en-Dombes                   1             AIN          5   \n",
       "Ambléon                               1             AIN          6   \n",
       "\n",
       "                         Registered  Abstentions  Null  Choice A  Choice B  \n",
       "Town name                                                                   \n",
       "L'Abergement-Clémenciat         592           84     9       154       345  \n",
       "L'Abergement-de-Varey           215           36     5        66       108  \n",
       "Ambérieu-en-Bugey              8205         1698   126      2717      3664  \n",
       "Ambérieux-en-Dombes            1152          170    18       280       684  \n",
       "Ambléon                         105           17     1        35        52  "
      ]
     },
     "execution_count": 12,
     "metadata": {},
     "output_type": "execute_result"
    }
   ],
   "source": [
    "df.head()"
   ]
  },
  {
   "cell_type": "markdown",
   "metadata": {},
   "source": [
    "## 2. Simple analysis"
   ]
  },
  {
   "cell_type": "markdown",
   "metadata": {},
   "source": [
    "* What is the city with the most registered people?"
   ]
  },
  {
   "cell_type": "code",
   "execution_count": 20,
   "metadata": {},
   "outputs": [
    {
     "data": {
      "text/plain": [
       "Town name\n",
       "L'Abergement-Clémenciat     592\n",
       "L'Abergement-de-Varey       215\n",
       "Ambérieu-en-Bugey          8205\n",
       "Ambérieux-en-Dombes        1152\n",
       "Ambléon                     105\n",
       "Name: Registered, dtype: int64"
      ]
     },
     "execution_count": 20,
     "metadata": {},
     "output_type": "execute_result"
    }
   ],
   "source": [
    "df.loc[:, 'Registered'].head()"
   ]
  },
  {
   "cell_type": "code",
   "execution_count": 21,
   "metadata": {},
   "outputs": [],
   "source": [
    "col_registered = df.loc[:, 'Registered']"
   ]
  },
  {
   "cell_type": "code",
   "execution_count": 22,
   "metadata": {},
   "outputs": [
    {
     "data": {
      "text/plain": [
       "1253322"
      ]
     },
     "execution_count": 22,
     "metadata": {},
     "output_type": "execute_result"
    }
   ],
   "source": [
    "col_registered.max()"
   ]
  },
  {
   "cell_type": "code",
   "execution_count": 23,
   "metadata": {},
   "outputs": [
    {
     "data": {
      "text/plain": [
       "Town name\n",
       "L'Abergement-Clémenciat           False\n",
       "L'Abergement-de-Varey             False\n",
       "Ambérieu-en-Bugey                 False\n",
       "Ambérieux-en-Dombes               False\n",
       "Ambléon                           False\n",
       "                                  ...  \n",
       "Europe centrale                   False\n",
       "Europe du Sud, Turquie, Israël    False\n",
       "Afrique Nord-Ouest                False\n",
       "Afrique Centre, Sud et Est        False\n",
       "Europe de l'est, Asie, Océanie    False\n",
       "Name: Registered, Length: 36791, dtype: bool"
      ]
     },
     "execution_count": 23,
     "metadata": {},
     "output_type": "execute_result"
    }
   ],
   "source": [
    "col_registered == col_registered.max()"
   ]
  },
  {
   "cell_type": "code",
   "execution_count": 24,
   "metadata": {},
   "outputs": [],
   "source": [
    "mask_most_registered = col_registered == col_registered.max()"
   ]
  },
  {
   "cell_type": "code",
   "execution_count": 25,
   "metadata": {},
   "outputs": [
    {
     "data": {
      "text/plain": [
       "Town name\n",
       "Paris    1253322\n",
       "Name: Registered, dtype: int64"
      ]
     },
     "execution_count": 25,
     "metadata": {},
     "output_type": "execute_result"
    }
   ],
   "source": [
    "col_registered.loc[mask_most_registered]"
   ]
  },
  {
   "cell_type": "code",
   "execution_count": 26,
   "metadata": {},
   "outputs": [
    {
     "data": {
      "text/html": [
       "<div>\n",
       "<style scoped>\n",
       "    .dataframe tbody tr th:only-of-type {\n",
       "        vertical-align: middle;\n",
       "    }\n",
       "\n",
       "    .dataframe tbody tr th {\n",
       "        vertical-align: top;\n",
       "    }\n",
       "\n",
       "    .dataframe thead th {\n",
       "        text-align: right;\n",
       "    }\n",
       "</style>\n",
       "<table border=\"1\" class=\"dataframe\">\n",
       "  <thead>\n",
       "    <tr style=\"text-align: right;\">\n",
       "      <th></th>\n",
       "      <th>Department code</th>\n",
       "      <th>Department name</th>\n",
       "      <th>Town code</th>\n",
       "      <th>Registered</th>\n",
       "      <th>Abstentions</th>\n",
       "      <th>Null</th>\n",
       "      <th>Choice A</th>\n",
       "      <th>Choice B</th>\n",
       "    </tr>\n",
       "    <tr>\n",
       "      <th>Town name</th>\n",
       "      <th></th>\n",
       "      <th></th>\n",
       "      <th></th>\n",
       "      <th></th>\n",
       "      <th></th>\n",
       "      <th></th>\n",
       "      <th></th>\n",
       "      <th></th>\n",
       "    </tr>\n",
       "  </thead>\n",
       "  <tbody>\n",
       "    <tr>\n",
       "      <td>Paris</td>\n",
       "      <td>75</td>\n",
       "      <td>PARIS</td>\n",
       "      <td>56</td>\n",
       "      <td>1253322</td>\n",
       "      <td>248755</td>\n",
       "      <td>12093</td>\n",
       "      <td>506594</td>\n",
       "      <td>485880</td>\n",
       "    </tr>\n",
       "  </tbody>\n",
       "</table>\n",
       "</div>"
      ],
      "text/plain": [
       "          Department code Department name  Town code  Registered  Abstentions  \\\n",
       "Town name                                                                       \n",
       "Paris                  75           PARIS         56     1253322       248755   \n",
       "\n",
       "            Null  Choice A  Choice B  \n",
       "Town name                             \n",
       "Paris      12093    506594    485880  "
      ]
     },
     "execution_count": 26,
     "metadata": {},
     "output_type": "execute_result"
    }
   ],
   "source": [
    "df.loc[mask_most_registered]"
   ]
  },
  {
   "cell_type": "markdown",
   "metadata": {},
   "source": [
    "* What is the city with the least number of registered persons?"
   ]
  },
  {
   "cell_type": "code",
   "execution_count": 27,
   "metadata": {},
   "outputs": [],
   "source": [
    "mask_least_registered = col_registered == col_registered.min()"
   ]
  },
  {
   "cell_type": "code",
   "execution_count": 28,
   "metadata": {},
   "outputs": [
    {
     "data": {
      "text/html": [
       "<div>\n",
       "<style scoped>\n",
       "    .dataframe tbody tr th:only-of-type {\n",
       "        vertical-align: middle;\n",
       "    }\n",
       "\n",
       "    .dataframe tbody tr th {\n",
       "        vertical-align: top;\n",
       "    }\n",
       "\n",
       "    .dataframe thead th {\n",
       "        text-align: right;\n",
       "    }\n",
       "</style>\n",
       "<table border=\"1\" class=\"dataframe\">\n",
       "  <thead>\n",
       "    <tr style=\"text-align: right;\">\n",
       "      <th></th>\n",
       "      <th>Department code</th>\n",
       "      <th>Department name</th>\n",
       "      <th>Town code</th>\n",
       "      <th>Registered</th>\n",
       "      <th>Abstentions</th>\n",
       "      <th>Null</th>\n",
       "      <th>Choice A</th>\n",
       "      <th>Choice B</th>\n",
       "    </tr>\n",
       "    <tr>\n",
       "      <th>Town name</th>\n",
       "      <th></th>\n",
       "      <th></th>\n",
       "      <th></th>\n",
       "      <th></th>\n",
       "      <th></th>\n",
       "      <th></th>\n",
       "      <th></th>\n",
       "      <th></th>\n",
       "    </tr>\n",
       "  </thead>\n",
       "  <tbody>\n",
       "    <tr>\n",
       "      <td>Douaumont</td>\n",
       "      <td>55</td>\n",
       "      <td>MEUSE</td>\n",
       "      <td>164</td>\n",
       "      <td>6</td>\n",
       "      <td>0</td>\n",
       "      <td>0</td>\n",
       "      <td>0</td>\n",
       "      <td>6</td>\n",
       "    </tr>\n",
       "  </tbody>\n",
       "</table>\n",
       "</div>"
      ],
      "text/plain": [
       "          Department code Department name  Town code  Registered  Abstentions  \\\n",
       "Town name                                                                       \n",
       "Douaumont              55           MEUSE        164           6            0   \n",
       "\n",
       "           Null  Choice A  Choice B  \n",
       "Town name                            \n",
       "Douaumont     0         0         6  "
      ]
     },
     "execution_count": 28,
     "metadata": {},
     "output_type": "execute_result"
    }
   ],
   "source": [
    "df.loc[mask_least_registered]"
   ]
  },
  {
   "cell_type": "markdown",
   "metadata": {},
   "source": [
    "Let's go to the `notebook.ipynb` to formalize the different aspect we just used up to now."
   ]
  },
  {
   "cell_type": "markdown",
   "metadata": {},
   "source": [
    "## 3. Group information together."
   ]
  },
  {
   "cell_type": "markdown",
   "metadata": {},
   "source": [
    "Let's now make a more advance analysis. Instead to make a micro-analysis by cities, we would like to make a macro-analysis by department."
   ]
  },
  {
   "cell_type": "code",
   "execution_count": 29,
   "metadata": {},
   "outputs": [
    {
     "data": {
      "text/html": [
       "<div>\n",
       "<style scoped>\n",
       "    .dataframe tbody tr th:only-of-type {\n",
       "        vertical-align: middle;\n",
       "    }\n",
       "\n",
       "    .dataframe tbody tr th {\n",
       "        vertical-align: top;\n",
       "    }\n",
       "\n",
       "    .dataframe thead th {\n",
       "        text-align: right;\n",
       "    }\n",
       "</style>\n",
       "<table border=\"1\" class=\"dataframe\">\n",
       "  <thead>\n",
       "    <tr style=\"text-align: right;\">\n",
       "      <th></th>\n",
       "      <th>Department code</th>\n",
       "      <th>Department name</th>\n",
       "      <th>Town code</th>\n",
       "      <th>Registered</th>\n",
       "      <th>Abstentions</th>\n",
       "      <th>Null</th>\n",
       "      <th>Choice A</th>\n",
       "      <th>Choice B</th>\n",
       "    </tr>\n",
       "    <tr>\n",
       "      <th>Town name</th>\n",
       "      <th></th>\n",
       "      <th></th>\n",
       "      <th></th>\n",
       "      <th></th>\n",
       "      <th></th>\n",
       "      <th></th>\n",
       "      <th></th>\n",
       "      <th></th>\n",
       "    </tr>\n",
       "  </thead>\n",
       "  <tbody>\n",
       "    <tr>\n",
       "      <td>L'Abergement-Clémenciat</td>\n",
       "      <td>1</td>\n",
       "      <td>AIN</td>\n",
       "      <td>1</td>\n",
       "      <td>592</td>\n",
       "      <td>84</td>\n",
       "      <td>9</td>\n",
       "      <td>154</td>\n",
       "      <td>345</td>\n",
       "    </tr>\n",
       "    <tr>\n",
       "      <td>L'Abergement-de-Varey</td>\n",
       "      <td>1</td>\n",
       "      <td>AIN</td>\n",
       "      <td>2</td>\n",
       "      <td>215</td>\n",
       "      <td>36</td>\n",
       "      <td>5</td>\n",
       "      <td>66</td>\n",
       "      <td>108</td>\n",
       "    </tr>\n",
       "    <tr>\n",
       "      <td>Ambérieu-en-Bugey</td>\n",
       "      <td>1</td>\n",
       "      <td>AIN</td>\n",
       "      <td>4</td>\n",
       "      <td>8205</td>\n",
       "      <td>1698</td>\n",
       "      <td>126</td>\n",
       "      <td>2717</td>\n",
       "      <td>3664</td>\n",
       "    </tr>\n",
       "    <tr>\n",
       "      <td>Ambérieux-en-Dombes</td>\n",
       "      <td>1</td>\n",
       "      <td>AIN</td>\n",
       "      <td>5</td>\n",
       "      <td>1152</td>\n",
       "      <td>170</td>\n",
       "      <td>18</td>\n",
       "      <td>280</td>\n",
       "      <td>684</td>\n",
       "    </tr>\n",
       "    <tr>\n",
       "      <td>Ambléon</td>\n",
       "      <td>1</td>\n",
       "      <td>AIN</td>\n",
       "      <td>6</td>\n",
       "      <td>105</td>\n",
       "      <td>17</td>\n",
       "      <td>1</td>\n",
       "      <td>35</td>\n",
       "      <td>52</td>\n",
       "    </tr>\n",
       "  </tbody>\n",
       "</table>\n",
       "</div>"
      ],
      "text/plain": [
       "                        Department code Department name  Town code  \\\n",
       "Town name                                                            \n",
       "L'Abergement-Clémenciat               1             AIN          1   \n",
       "L'Abergement-de-Varey                 1             AIN          2   \n",
       "Ambérieu-en-Bugey                     1             AIN          4   \n",
       "Ambérieux-en-Dombes                   1             AIN          5   \n",
       "Ambléon                               1             AIN          6   \n",
       "\n",
       "                         Registered  Abstentions  Null  Choice A  Choice B  \n",
       "Town name                                                                   \n",
       "L'Abergement-Clémenciat         592           84     9       154       345  \n",
       "L'Abergement-de-Varey           215           36     5        66       108  \n",
       "Ambérieu-en-Bugey              8205         1698   126      2717      3664  \n",
       "Ambérieux-en-Dombes            1152          170    18       280       684  \n",
       "Ambléon                         105           17     1        35        52  "
      ]
     },
     "execution_count": 29,
     "metadata": {},
     "output_type": "execute_result"
    }
   ],
   "source": [
    "df.head()"
   ]
  },
  {
   "cell_type": "markdown",
   "metadata": {},
   "source": [
    "Therefore, we would like group the votes by department and add them up."
   ]
  },
  {
   "cell_type": "code",
   "execution_count": 30,
   "metadata": {},
   "outputs": [
    {
     "data": {
      "text/html": [
       "<div>\n",
       "<style scoped>\n",
       "    .dataframe tbody tr th:only-of-type {\n",
       "        vertical-align: middle;\n",
       "    }\n",
       "\n",
       "    .dataframe tbody tr th {\n",
       "        vertical-align: top;\n",
       "    }\n",
       "\n",
       "    .dataframe thead th {\n",
       "        text-align: right;\n",
       "    }\n",
       "</style>\n",
       "<table border=\"1\" class=\"dataframe\">\n",
       "  <thead>\n",
       "    <tr style=\"text-align: right;\">\n",
       "      <th></th>\n",
       "      <th>Town code</th>\n",
       "      <th>Registered</th>\n",
       "      <th>Abstentions</th>\n",
       "      <th>Null</th>\n",
       "      <th>Choice A</th>\n",
       "      <th>Choice B</th>\n",
       "    </tr>\n",
       "    <tr>\n",
       "      <th>Department code</th>\n",
       "      <th></th>\n",
       "      <th></th>\n",
       "      <th></th>\n",
       "      <th></th>\n",
       "      <th></th>\n",
       "      <th></th>\n",
       "    </tr>\n",
       "  </thead>\n",
       "  <tbody>\n",
       "    <tr>\n",
       "      <td>1</td>\n",
       "      <td>96341</td>\n",
       "      <td>393808</td>\n",
       "      <td>65996</td>\n",
       "      <td>6453</td>\n",
       "      <td>116379</td>\n",
       "      <td>204980</td>\n",
       "    </tr>\n",
       "    <tr>\n",
       "      <td>10</td>\n",
       "      <td>96568</td>\n",
       "      <td>203590</td>\n",
       "      <td>37939</td>\n",
       "      <td>3466</td>\n",
       "      <td>54743</td>\n",
       "      <td>107442</td>\n",
       "    </tr>\n",
       "    <tr>\n",
       "      <td>11</td>\n",
       "      <td>96472</td>\n",
       "      <td>264288</td>\n",
       "      <td>43641</td>\n",
       "      <td>4299</td>\n",
       "      <td>102595</td>\n",
       "      <td>113753</td>\n",
       "    </tr>\n",
       "    <tr>\n",
       "      <td>12</td>\n",
       "      <td>46538</td>\n",
       "      <td>218347</td>\n",
       "      <td>32095</td>\n",
       "      <td>4539</td>\n",
       "      <td>83404</td>\n",
       "      <td>98309</td>\n",
       "    </tr>\n",
       "    <tr>\n",
       "      <td>13</td>\n",
       "      <td>7140</td>\n",
       "      <td>1314766</td>\n",
       "      <td>257432</td>\n",
       "      <td>16711</td>\n",
       "      <td>428682</td>\n",
       "      <td>611941</td>\n",
       "    </tr>\n",
       "    <tr>\n",
       "      <td>...</td>\n",
       "      <td>...</td>\n",
       "      <td>...</td>\n",
       "      <td>...</td>\n",
       "      <td>...</td>\n",
       "      <td>...</td>\n",
       "      <td>...</td>\n",
       "    </tr>\n",
       "    <tr>\n",
       "      <td>ZP</td>\n",
       "      <td>1656</td>\n",
       "      <td>186642</td>\n",
       "      <td>94542</td>\n",
       "      <td>2281</td>\n",
       "      <td>36056</td>\n",
       "      <td>53763</td>\n",
       "    </tr>\n",
       "    <tr>\n",
       "      <td>ZS</td>\n",
       "      <td>1003</td>\n",
       "      <td>4923</td>\n",
       "      <td>2193</td>\n",
       "      <td>99</td>\n",
       "      <td>1456</td>\n",
       "      <td>1175</td>\n",
       "    </tr>\n",
       "    <tr>\n",
       "      <td>ZW</td>\n",
       "      <td>1</td>\n",
       "      <td>8940</td>\n",
       "      <td>2494</td>\n",
       "      <td>39</td>\n",
       "      <td>3359</td>\n",
       "      <td>3048</td>\n",
       "    </tr>\n",
       "    <tr>\n",
       "      <td>ZX</td>\n",
       "      <td>1502</td>\n",
       "      <td>22685</td>\n",
       "      <td>14408</td>\n",
       "      <td>244</td>\n",
       "      <td>2961</td>\n",
       "      <td>5072</td>\n",
       "    </tr>\n",
       "    <tr>\n",
       "      <td>ZZ</td>\n",
       "      <td>66</td>\n",
       "      <td>1043586</td>\n",
       "      <td>635882</td>\n",
       "      <td>4410</td>\n",
       "      <td>173626</td>\n",
       "      <td>229668</td>\n",
       "    </tr>\n",
       "  </tbody>\n",
       "</table>\n",
       "<p>107 rows × 6 columns</p>\n",
       "</div>"
      ],
      "text/plain": [
       "                 Town code  Registered  Abstentions   Null  Choice A  Choice B\n",
       "Department code                                                               \n",
       "1                    96341      393808        65996   6453    116379    204980\n",
       "10                   96568      203590        37939   3466     54743    107442\n",
       "11                   96472      264288        43641   4299    102595    113753\n",
       "12                   46538      218347        32095   4539     83404     98309\n",
       "13                    7140     1314766       257432  16711    428682    611941\n",
       "...                    ...         ...          ...    ...       ...       ...\n",
       "ZP                    1656      186642        94542   2281     36056     53763\n",
       "ZS                    1003        4923         2193     99      1456      1175\n",
       "ZW                       1        8940         2494     39      3359      3048\n",
       "ZX                    1502       22685        14408    244      2961      5072\n",
       "ZZ                      66     1043586       635882   4410    173626    229668\n",
       "\n",
       "[107 rows x 6 columns]"
      ]
     },
     "execution_count": 30,
     "metadata": {},
     "output_type": "execute_result"
    }
   ],
   "source": [
    "df.groupby('Department code').sum()"
   ]
  },
  {
   "cell_type": "code",
   "execution_count": 32,
   "metadata": {},
   "outputs": [
    {
     "data": {
      "text/html": [
       "<div>\n",
       "<style scoped>\n",
       "    .dataframe tbody tr th:only-of-type {\n",
       "        vertical-align: middle;\n",
       "    }\n",
       "\n",
       "    .dataframe tbody tr th {\n",
       "        vertical-align: top;\n",
       "    }\n",
       "\n",
       "    .dataframe thead th {\n",
       "        text-align: right;\n",
       "    }\n",
       "</style>\n",
       "<table border=\"1\" class=\"dataframe\">\n",
       "  <thead>\n",
       "    <tr style=\"text-align: right;\">\n",
       "      <th></th>\n",
       "      <th>Department code</th>\n",
       "      <th>Department name</th>\n",
       "      <th>Town code</th>\n",
       "      <th>Registered</th>\n",
       "      <th>Abstentions</th>\n",
       "      <th>Null</th>\n",
       "      <th>Choice A</th>\n",
       "      <th>Choice B</th>\n",
       "    </tr>\n",
       "  </thead>\n",
       "  <tbody>\n",
       "    <tr>\n",
       "      <td>0</td>\n",
       "      <td>1</td>\n",
       "      <td>AIN</td>\n",
       "      <td>96341</td>\n",
       "      <td>393808</td>\n",
       "      <td>65996</td>\n",
       "      <td>6453</td>\n",
       "      <td>116379</td>\n",
       "      <td>204980</td>\n",
       "    </tr>\n",
       "    <tr>\n",
       "      <td>1</td>\n",
       "      <td>10</td>\n",
       "      <td>AUBE</td>\n",
       "      <td>96568</td>\n",
       "      <td>203590</td>\n",
       "      <td>37939</td>\n",
       "      <td>3466</td>\n",
       "      <td>54743</td>\n",
       "      <td>107442</td>\n",
       "    </tr>\n",
       "    <tr>\n",
       "      <td>2</td>\n",
       "      <td>11</td>\n",
       "      <td>AUDE</td>\n",
       "      <td>96472</td>\n",
       "      <td>264288</td>\n",
       "      <td>43641</td>\n",
       "      <td>4299</td>\n",
       "      <td>102595</td>\n",
       "      <td>113753</td>\n",
       "    </tr>\n",
       "    <tr>\n",
       "      <td>3</td>\n",
       "      <td>12</td>\n",
       "      <td>AVEYRON</td>\n",
       "      <td>46538</td>\n",
       "      <td>218347</td>\n",
       "      <td>32095</td>\n",
       "      <td>4539</td>\n",
       "      <td>83404</td>\n",
       "      <td>98309</td>\n",
       "    </tr>\n",
       "    <tr>\n",
       "      <td>4</td>\n",
       "      <td>13</td>\n",
       "      <td>BOUCHES DU RHONE</td>\n",
       "      <td>7140</td>\n",
       "      <td>1314766</td>\n",
       "      <td>257432</td>\n",
       "      <td>16711</td>\n",
       "      <td>428682</td>\n",
       "      <td>611941</td>\n",
       "    </tr>\n",
       "    <tr>\n",
       "      <td>...</td>\n",
       "      <td>...</td>\n",
       "      <td>...</td>\n",
       "      <td>...</td>\n",
       "      <td>...</td>\n",
       "      <td>...</td>\n",
       "      <td>...</td>\n",
       "      <td>...</td>\n",
       "      <td>...</td>\n",
       "    </tr>\n",
       "    <tr>\n",
       "      <td>102</td>\n",
       "      <td>ZP</td>\n",
       "      <td>POLYNESIE FRANCAISE</td>\n",
       "      <td>1656</td>\n",
       "      <td>186642</td>\n",
       "      <td>94542</td>\n",
       "      <td>2281</td>\n",
       "      <td>36056</td>\n",
       "      <td>53763</td>\n",
       "    </tr>\n",
       "    <tr>\n",
       "      <td>103</td>\n",
       "      <td>ZS</td>\n",
       "      <td>SAINT PIERRE ET MIQUELON</td>\n",
       "      <td>1003</td>\n",
       "      <td>4923</td>\n",
       "      <td>2193</td>\n",
       "      <td>99</td>\n",
       "      <td>1456</td>\n",
       "      <td>1175</td>\n",
       "    </tr>\n",
       "    <tr>\n",
       "      <td>104</td>\n",
       "      <td>ZW</td>\n",
       "      <td>WALLIS-ET-FUTUNA</td>\n",
       "      <td>1</td>\n",
       "      <td>8940</td>\n",
       "      <td>2494</td>\n",
       "      <td>39</td>\n",
       "      <td>3359</td>\n",
       "      <td>3048</td>\n",
       "    </tr>\n",
       "    <tr>\n",
       "      <td>105</td>\n",
       "      <td>ZX</td>\n",
       "      <td>SAINT-MARTIN/SAINT-BARTHELEMY</td>\n",
       "      <td>1502</td>\n",
       "      <td>22685</td>\n",
       "      <td>14408</td>\n",
       "      <td>244</td>\n",
       "      <td>2961</td>\n",
       "      <td>5072</td>\n",
       "    </tr>\n",
       "    <tr>\n",
       "      <td>106</td>\n",
       "      <td>ZZ</td>\n",
       "      <td>FRANCAIS DE L'ETRANGER</td>\n",
       "      <td>66</td>\n",
       "      <td>1043586</td>\n",
       "      <td>635882</td>\n",
       "      <td>4410</td>\n",
       "      <td>173626</td>\n",
       "      <td>229668</td>\n",
       "    </tr>\n",
       "  </tbody>\n",
       "</table>\n",
       "<p>107 rows × 8 columns</p>\n",
       "</div>"
      ],
      "text/plain": [
       "    Department code                Department name  Town code  Registered  \\\n",
       "0                 1                            AIN      96341      393808   \n",
       "1                10                           AUBE      96568      203590   \n",
       "2                11                           AUDE      96472      264288   \n",
       "3                12                        AVEYRON      46538      218347   \n",
       "4                13               BOUCHES DU RHONE       7140     1314766   \n",
       "..              ...                            ...        ...         ...   \n",
       "102              ZP            POLYNESIE FRANCAISE       1656      186642   \n",
       "103              ZS       SAINT PIERRE ET MIQUELON       1003        4923   \n",
       "104              ZW               WALLIS-ET-FUTUNA          1        8940   \n",
       "105              ZX  SAINT-MARTIN/SAINT-BARTHELEMY       1502       22685   \n",
       "106              ZZ         FRANCAIS DE L'ETRANGER         66     1043586   \n",
       "\n",
       "     Abstentions   Null  Choice A  Choice B  \n",
       "0          65996   6453    116379    204980  \n",
       "1          37939   3466     54743    107442  \n",
       "2          43641   4299    102595    113753  \n",
       "3          32095   4539     83404     98309  \n",
       "4         257432  16711    428682    611941  \n",
       "..           ...    ...       ...       ...  \n",
       "102        94542   2281     36056     53763  \n",
       "103         2193     99      1456      1175  \n",
       "104         2494     39      3359      3048  \n",
       "105        14408    244      2961      5072  \n",
       "106       635882   4410    173626    229668  \n",
       "\n",
       "[107 rows x 8 columns]"
      ]
     },
     "execution_count": 32,
     "metadata": {},
     "output_type": "execute_result"
    }
   ],
   "source": [
    "df_department = df.groupby(['Department code', 'Department name']).sum().reset_index()\n",
    "df_department"
   ]
  },
  {
   "cell_type": "markdown",
   "metadata": {},
   "source": [
    "## 4. Merging information together"
   ]
  },
  {
   "cell_type": "markdown",
   "metadata": {},
   "source": [
    "We would like to plot some of the information into the a map."
   ]
  },
  {
   "cell_type": "code",
   "execution_count": 33,
   "metadata": {},
   "outputs": [],
   "source": [
    "import geopandas as gpd"
   ]
  },
  {
   "cell_type": "code",
   "execution_count": 34,
   "metadata": {},
   "outputs": [],
   "source": [
    "gdf_department = gpd.read_file(os.path.join('data', 'departements.geojson'))"
   ]
  },
  {
   "cell_type": "code",
   "execution_count": 35,
   "metadata": {},
   "outputs": [
    {
     "data": {
      "text/plain": [
       "geopandas.geodataframe.GeoDataFrame"
      ]
     },
     "execution_count": 35,
     "metadata": {},
     "output_type": "execute_result"
    }
   ],
   "source": [
    "type(gdf_department)"
   ]
  },
  {
   "cell_type": "code",
   "execution_count": 36,
   "metadata": {},
   "outputs": [
    {
     "data": {
      "text/html": [
       "<div>\n",
       "<style scoped>\n",
       "    .dataframe tbody tr th:only-of-type {\n",
       "        vertical-align: middle;\n",
       "    }\n",
       "\n",
       "    .dataframe tbody tr th {\n",
       "        vertical-align: top;\n",
       "    }\n",
       "\n",
       "    .dataframe thead th {\n",
       "        text-align: right;\n",
       "    }\n",
       "</style>\n",
       "<table border=\"1\" class=\"dataframe\">\n",
       "  <thead>\n",
       "    <tr style=\"text-align: right;\">\n",
       "      <th></th>\n",
       "      <th>code</th>\n",
       "      <th>nom</th>\n",
       "      <th>geometry</th>\n",
       "    </tr>\n",
       "  </thead>\n",
       "  <tbody>\n",
       "    <tr>\n",
       "      <td>0</td>\n",
       "      <td>02</td>\n",
       "      <td>Aisne</td>\n",
       "      <td>POLYGON ((3.172704445659 50.011996744997, 3.18...</td>\n",
       "    </tr>\n",
       "    <tr>\n",
       "      <td>1</td>\n",
       "      <td>10</td>\n",
       "      <td>Aube</td>\n",
       "      <td>POLYGON ((3.4147888224632 48.390268550005, 3.4...</td>\n",
       "    </tr>\n",
       "    <tr>\n",
       "      <td>2</td>\n",
       "      <td>14</td>\n",
       "      <td>Calvados</td>\n",
       "      <td>POLYGON ((-1.1196198636379 49.355568981262, -1...</td>\n",
       "    </tr>\n",
       "    <tr>\n",
       "      <td>3</td>\n",
       "      <td>15</td>\n",
       "      <td>Cantal</td>\n",
       "      <td>POLYGON ((2.5084125130653 45.478501516921, 2.5...</td>\n",
       "    </tr>\n",
       "    <tr>\n",
       "      <td>4</td>\n",
       "      <td>28</td>\n",
       "      <td>Eure-et-Loir</td>\n",
       "      <td>POLYGON ((0.8148247207739 48.670163564137, 0.8...</td>\n",
       "    </tr>\n",
       "  </tbody>\n",
       "</table>\n",
       "</div>"
      ],
      "text/plain": [
       "  code           nom                                           geometry\n",
       "0   02         Aisne  POLYGON ((3.172704445659 50.011996744997, 3.18...\n",
       "1   10          Aube  POLYGON ((3.4147888224632 48.390268550005, 3.4...\n",
       "2   14      Calvados  POLYGON ((-1.1196198636379 49.355568981262, -1...\n",
       "3   15        Cantal  POLYGON ((2.5084125130653 45.478501516921, 2.5...\n",
       "4   28  Eure-et-Loir  POLYGON ((0.8148247207739 48.670163564137, 0.8..."
      ]
     },
     "execution_count": 36,
     "metadata": {},
     "output_type": "execute_result"
    }
   ],
   "source": [
    "gdf_department.head()"
   ]
  },
  {
   "cell_type": "code",
   "execution_count": 37,
   "metadata": {},
   "outputs": [
    {
     "data": {
      "text/plain": [
       "<matplotlib.axes._subplots.AxesSubplot at 0x7fafffabd990>"
      ]
     },
     "execution_count": 37,
     "metadata": {},
     "output_type": "execute_result"
    },
    {
     "data": {
      "image/png": "[encoded data removed]",
      "text/plain": [
       "<Figure size 432x288 with 1 Axes>"
      ]
     },
     "metadata": {
      "needs_background": "light"
     },
     "output_type": "display_data"
    }
   ],
   "source": [
    "gdf_department.plot()"
   ]
  },
  {
   "cell_type": "markdown",
   "metadata": {},
   "source": [
    "So what we need at that stage is to merge the different dataframe together."
   ]
  },
  {
   "cell_type": "code",
   "execution_count": 38,
   "metadata": {},
   "outputs": [],
   "source": [
    "df = gdf_department.merge(df_department, how='inner', left_on='code', right_on='Department code')"
   ]
  },
  {
   "cell_type": "code",
   "execution_count": 39,
   "metadata": {},
   "outputs": [
    {
     "data": {
      "text/plain": [
       "<matplotlib.axes._subplots.AxesSubplot at 0x7fafffb7ff90>"
      ]
     },
     "execution_count": 39,
     "metadata": {},
     "output_type": "execute_result"
    },
    {
     "data": {
      "image/png": "[encoded data removed]",
      "text/plain": [
       "<Figure size 432x288 with 1 Axes>"
      ]
     },
     "metadata": {
      "needs_background": "light"
     },
     "output_type": "display_data"
    }
   ],
   "source": [
    "df.plot(column='Registered')"
   ]
  },
  {
   "cell_type": "markdown",
   "metadata": {},
   "source": [
    "## 5. Bug correction"
   ]
  },
  {
   "cell_type": "code",
   "execution_count": 40,
   "metadata": {},
   "outputs": [],
   "source": [
    "def prepend_zero(code):\n",
    "    if len(code) == 1:\n",
    "        return '0' + code\n",
    "    return code\n",
    "\n",
    "df_department['Department code'] = df_department['Department code'].apply(prepend_zero)"
   ]
  },
  {
   "cell_type": "code",
   "execution_count": 41,
   "metadata": {},
   "outputs": [],
   "source": [
    "df = gdf_department.merge(df_department, how='inner', left_on='code', right_on='Department code')"
   ]
  },
  {
   "cell_type": "code",
   "execution_count": 45,
   "metadata": {},
   "outputs": [
    {
     "data": {
      "text/html": [
       "<div>\n",
       "<style scoped>\n",
       "    .dataframe tbody tr th:only-of-type {\n",
       "        vertical-align: middle;\n",
       "    }\n",
       "\n",
       "    .dataframe tbody tr th {\n",
       "        vertical-align: top;\n",
       "    }\n",
       "\n",
       "    .dataframe thead th {\n",
       "        text-align: right;\n",
       "    }\n",
       "</style>\n",
       "<table border=\"1\" class=\"dataframe\">\n",
       "  <thead>\n",
       "    <tr style=\"text-align: right;\">\n",
       "      <th></th>\n",
       "      <th>code</th>\n",
       "      <th>nom</th>\n",
       "      <th>geometry</th>\n",
       "      <th>Department code</th>\n",
       "      <th>Department name</th>\n",
       "      <th>Town code</th>\n",
       "      <th>Registered</th>\n",
       "      <th>Abstentions</th>\n",
       "      <th>Null</th>\n",
       "      <th>Choice A</th>\n",
       "      <th>Choice B</th>\n",
       "    </tr>\n",
       "  </thead>\n",
       "  <tbody>\n",
       "    <tr>\n",
       "      <td>0</td>\n",
       "      <td>02</td>\n",
       "      <td>Aisne</td>\n",
       "      <td>POLYGON ((3.172704445659 50.011996744997, 3.18...</td>\n",
       "      <td>02</td>\n",
       "      <td>AISNE</td>\n",
       "      <td>340904</td>\n",
       "      <td>376068</td>\n",
       "      <td>72928</td>\n",
       "      <td>5196</td>\n",
       "      <td>120916</td>\n",
       "      <td>177028</td>\n",
       "    </tr>\n",
       "    <tr>\n",
       "      <td>1</td>\n",
       "      <td>10</td>\n",
       "      <td>Aube</td>\n",
       "      <td>POLYGON ((3.4147888224632 48.390268550005, 3.4...</td>\n",
       "      <td>10</td>\n",
       "      <td>AUBE</td>\n",
       "      <td>96568</td>\n",
       "      <td>203590</td>\n",
       "      <td>37939</td>\n",
       "      <td>3466</td>\n",
       "      <td>54743</td>\n",
       "      <td>107442</td>\n",
       "    </tr>\n",
       "    <tr>\n",
       "      <td>2</td>\n",
       "      <td>14</td>\n",
       "      <td>Calvados</td>\n",
       "      <td>POLYGON ((-1.1196198636379 49.355568981262, -1...</td>\n",
       "      <td>14</td>\n",
       "      <td>CALVADOS</td>\n",
       "      <td>270982</td>\n",
       "      <td>490547</td>\n",
       "      <td>82498</td>\n",
       "      <td>6617</td>\n",
       "      <td>176764</td>\n",
       "      <td>224668</td>\n",
       "    </tr>\n",
       "    <tr>\n",
       "      <td>3</td>\n",
       "      <td>15</td>\n",
       "      <td>Cantal</td>\n",
       "      <td>POLYGON ((2.5084125130653 45.478501516921, 2.5...</td>\n",
       "      <td>15</td>\n",
       "      <td>CANTAL</td>\n",
       "      <td>35148</td>\n",
       "      <td>120962</td>\n",
       "      <td>20366</td>\n",
       "      <td>2190</td>\n",
       "      <td>42528</td>\n",
       "      <td>55878</td>\n",
       "    </tr>\n",
       "    <tr>\n",
       "      <td>4</td>\n",
       "      <td>28</td>\n",
       "      <td>Eure-et-Loir</td>\n",
       "      <td>POLYGON ((0.8148247207739 48.670163564137, 0.8...</td>\n",
       "      <td>28</td>\n",
       "      <td>EURE ET LOIR</td>\n",
       "      <td>85380</td>\n",
       "      <td>297784</td>\n",
       "      <td>56589</td>\n",
       "      <td>4380</td>\n",
       "      <td>90386</td>\n",
       "      <td>146429</td>\n",
       "    </tr>\n",
       "  </tbody>\n",
       "</table>\n",
       "</div>"
      ],
      "text/plain": [
       "  code           nom                                           geometry  \\\n",
       "0   02         Aisne  POLYGON ((3.172704445659 50.011996744997, 3.18...   \n",
       "1   10          Aube  POLYGON ((3.4147888224632 48.390268550005, 3.4...   \n",
       "2   14      Calvados  POLYGON ((-1.1196198636379 49.355568981262, -1...   \n",
       "3   15        Cantal  POLYGON ((2.5084125130653 45.478501516921, 2.5...   \n",
       "4   28  Eure-et-Loir  POLYGON ((0.8148247207739 48.670163564137, 0.8...   \n",
       "\n",
       "  Department code Department name  Town code  Registered  Abstentions  Null  \\\n",
       "0              02           AISNE     340904      376068        72928  5196   \n",
       "1              10            AUBE      96568      203590        37939  3466   \n",
       "2              14        CALVADOS     270982      490547        82498  6617   \n",
       "3              15          CANTAL      35148      120962        20366  2190   \n",
       "4              28    EURE ET LOIR      85380      297784        56589  4380   \n",
       "\n",
       "   Choice A  Choice B  \n",
       "0    120916    177028  \n",
       "1     54743    107442  \n",
       "2    176764    224668  \n",
       "3     42528     55878  \n",
       "4     90386    146429  "
      ]
     },
     "execution_count": 45,
     "metadata": {},
     "output_type": "execute_result"
    }
   ],
   "source": [
    "df.head()"
   ]
  },
  {
   "cell_type": "code",
   "execution_count": 42,
   "metadata": {},
   "outputs": [
    {
     "data": {
      "text/plain": [
       "<matplotlib.axes._subplots.AxesSubplot at 0x7fafff867d10>"
      ]
     },
     "execution_count": 42,
     "metadata": {},
     "output_type": "execute_result"
    },
    {
     "data": {
      "image/png": "[encoded data removed]",
      "text/plain": [
       "<Figure size 432x288 with 1 Axes>"
      ]
     },
     "metadata": {
      "needs_background": "light"
     },
     "output_type": "display_data"
    }
   ],
   "source": [
    "df.plot(column='Registered')"
   ]
  },
  {
   "cell_type": "code",
   "execution_count": 43,
   "metadata": {},
   "outputs": [
    {
     "data": {
      "text/plain": [
       "<matplotlib.axes._subplots.AxesSubplot at 0x7fafffda2350>"
      ]
     },
     "execution_count": 43,
     "metadata": {},
     "output_type": "execute_result"
    },
    {
     "data": {
      "image/png": "[encoded data removed]",
      "text/plain": [
       "<Figure size 432x288 with 1 Axes>"
      ]
     },
     "metadata": {
      "needs_background": "light"
     },
     "output_type": "display_data"
    }
   ],
   "source": [
    "df.plot(column='Choice A')"
   ]
  },
  {
   "cell_type": "code",
   "execution_count": 44,
   "metadata": {},
   "outputs": [
    {
     "data": {
      "text/plain": [
       "<matplotlib.axes._subplots.AxesSubplot at 0x7fafffd3fd50>"
      ]
     },
     "execution_count": 44,
     "metadata": {},
     "output_type": "execute_result"
    },
    {
     "data": {
      "image/png": "[encoded data removed]",
      "text/plain": [
       "<Figure size 432x288 with 1 Axes>"
      ]
     },
     "metadata": {
      "needs_background": "light"
     },
     "output_type": "display_data"
    }
   ],
   "source": [
    "df.plot(column='Choice B')"
   ]
  },
  {
   "cell_type": "code",
   "execution_count": 46,
   "metadata": {},
   "outputs": [],
   "source": [
    "df_normalized = df.copy()"
   ]
  },
  {
   "cell_type": "code",
   "execution_count": 47,
   "metadata": {},
   "outputs": [],
   "source": [
    "df_normalized['Choice A'] /= df[['Choice A', 'Choice B']].sum(axis=1)\n",
    "df_normalized['Choice B'] /= df[['Choice A', 'Choice B']].sum(axis=1)"
   ]
  },
  {
   "cell_type": "code",
   "execution_count": 48,
   "metadata": {},
   "outputs": [
    {
     "data": {
      "text/plain": [
       "<matplotlib.axes._subplots.AxesSubplot at 0x7fafff78ce50>"
      ]
     },
     "execution_count": 48,
     "metadata": {},
     "output_type": "execute_result"
    },
    {
     "data": {
      "image/png": "[encoded data removed]",
      "text/plain": [
       "<Figure size 432x288 with 1 Axes>"
      ]
     },
     "metadata": {
      "needs_background": "light"
     },
     "output_type": "display_data"
    }
   ],
   "source": [
    "df_normalized.plot(column='Choice B')"
   ]
  },
  {
   "cell_type": "code",
   "execution_count": 49,
   "metadata": {},
   "outputs": [
    {
     "data": {
      "text/plain": [
       "<matplotlib.axes._subplots.AxesSubplot at 0x7fafff978750>"
      ]
     },
     "execution_count": 49,
     "metadata": {},
     "output_type": "execute_result"
    },
    {
     "data": {
      "image/png": "[encoded data removed]",
      "text/plain": [
       "<Figure size 432x288 with 1 Axes>"
      ]
     },
     "metadata": {
      "needs_background": "light"
     },
     "output_type": "display_data"
    }
   ],
   "source": [
    "df_normalized.plot(column='Choice A')"
   ]
  },
  {
   "cell_type": "markdown",
   "metadata": {},
   "source": [
    "## 6. This your turn"
   ]
  },
  {
   "cell_type": "markdown",
   "metadata": {},
   "source": [
    "The goal will be to repeat the analysis but at the region scale. However, this is not as easy. The regions information in directly available and we will need to import it from another external source."
   ]
  },
  {
   "cell_type": "markdown",
   "metadata": {},
   "source": [
    "* Open the `data/referendum.csv` file."
   ]
  },
  {
   "cell_type": "code",
   "execution_count": 53,
   "metadata": {},
   "outputs": [],
   "source": [
    "# %load solutions/24_solutions.py\n",
    "df_referendum = pd.read_csv(filename_referendum, sep=';')\n"
   ]
  },
  {
   "cell_type": "markdown",
   "metadata": {},
   "source": [
    "* Show the 5 first rows."
   ]
  },
  {
   "cell_type": "code",
   "execution_count": 54,
   "metadata": {},
   "outputs": [
    {
     "data": {
      "text/html": [
       "<div>\n",
       "<style scoped>\n",
       "    .dataframe tbody tr th:only-of-type {\n",
       "        vertical-align: middle;\n",
       "    }\n",
       "\n",
       "    .dataframe tbody tr th {\n",
       "        vertical-align: top;\n",
       "    }\n",
       "\n",
       "    .dataframe thead th {\n",
       "        text-align: right;\n",
       "    }\n",
       "</style>\n",
       "<table border=\"1\" class=\"dataframe\">\n",
       "  <thead>\n",
       "    <tr style=\"text-align: right;\">\n",
       "      <th></th>\n",
       "      <th>Department code</th>\n",
       "      <th>Department name</th>\n",
       "      <th>Town code</th>\n",
       "      <th>Town name</th>\n",
       "      <th>Registered</th>\n",
       "      <th>Abstentions</th>\n",
       "      <th>Null</th>\n",
       "      <th>Choice A</th>\n",
       "      <th>Choice B</th>\n",
       "    </tr>\n",
       "  </thead>\n",
       "  <tbody>\n",
       "    <tr>\n",
       "      <td>0</td>\n",
       "      <td>1</td>\n",
       "      <td>AIN</td>\n",
       "      <td>1</td>\n",
       "      <td>L'Abergement-Clémenciat</td>\n",
       "      <td>592</td>\n",
       "      <td>84</td>\n",
       "      <td>9</td>\n",
       "      <td>154</td>\n",
       "      <td>345</td>\n",
       "    </tr>\n",
       "    <tr>\n",
       "      <td>1</td>\n",
       "      <td>1</td>\n",
       "      <td>AIN</td>\n",
       "      <td>2</td>\n",
       "      <td>L'Abergement-de-Varey</td>\n",
       "      <td>215</td>\n",
       "      <td>36</td>\n",
       "      <td>5</td>\n",
       "      <td>66</td>\n",
       "      <td>108</td>\n",
       "    </tr>\n",
       "    <tr>\n",
       "      <td>2</td>\n",
       "      <td>1</td>\n",
       "      <td>AIN</td>\n",
       "      <td>4</td>\n",
       "      <td>Ambérieu-en-Bugey</td>\n",
       "      <td>8205</td>\n",
       "      <td>1698</td>\n",
       "      <td>126</td>\n",
       "      <td>2717</td>\n",
       "      <td>3664</td>\n",
       "    </tr>\n",
       "    <tr>\n",
       "      <td>3</td>\n",
       "      <td>1</td>\n",
       "      <td>AIN</td>\n",
       "      <td>5</td>\n",
       "      <td>Ambérieux-en-Dombes</td>\n",
       "      <td>1152</td>\n",
       "      <td>170</td>\n",
       "      <td>18</td>\n",
       "      <td>280</td>\n",
       "      <td>684</td>\n",
       "    </tr>\n",
       "    <tr>\n",
       "      <td>4</td>\n",
       "      <td>1</td>\n",
       "      <td>AIN</td>\n",
       "      <td>6</td>\n",
       "      <td>Ambléon</td>\n",
       "      <td>105</td>\n",
       "      <td>17</td>\n",
       "      <td>1</td>\n",
       "      <td>35</td>\n",
       "      <td>52</td>\n",
       "    </tr>\n",
       "  </tbody>\n",
       "</table>\n",
       "</div>"
      ],
      "text/plain": [
       "  Department code Department name  Town code                Town name  \\\n",
       "0               1             AIN          1  L'Abergement-Clémenciat   \n",
       "1               1             AIN          2    L'Abergement-de-Varey   \n",
       "2               1             AIN          4        Ambérieu-en-Bugey   \n",
       "3               1             AIN          5      Ambérieux-en-Dombes   \n",
       "4               1             AIN          6                  Ambléon   \n",
       "\n",
       "   Registered  Abstentions  Null  Choice A  Choice B  \n",
       "0         592           84     9       154       345  \n",
       "1         215           36     5        66       108  \n",
       "2        8205         1698   126      2717      3664  \n",
       "3        1152          170    18       280       684  \n",
       "4         105           17     1        35        52  "
      ]
     },
     "execution_count": 54,
     "metadata": {},
     "output_type": "execute_result"
    }
   ],
   "source": [
    "# %load solutions/25_solutions.py\n",
    "df_referendum.head()\n"
   ]
  },
  {
   "cell_type": "markdown",
   "metadata": {},
   "source": [
    "As you can see, there is no information about the regions. Before to get to this stage, let's correct the issue with the deparment numbering."
   ]
  },
  {
   "cell_type": "code",
   "execution_count": 56,
   "metadata": {},
   "outputs": [
    {
     "data": {
      "text/html": [
       "<div>\n",
       "<style scoped>\n",
       "    .dataframe tbody tr th:only-of-type {\n",
       "        vertical-align: middle;\n",
       "    }\n",
       "\n",
       "    .dataframe tbody tr th {\n",
       "        vertical-align: top;\n",
       "    }\n",
       "\n",
       "    .dataframe thead th {\n",
       "        text-align: right;\n",
       "    }\n",
       "</style>\n",
       "<table border=\"1\" class=\"dataframe\">\n",
       "  <thead>\n",
       "    <tr style=\"text-align: right;\">\n",
       "      <th></th>\n",
       "      <th>Department code</th>\n",
       "      <th>Department name</th>\n",
       "      <th>Town code</th>\n",
       "      <th>Town name</th>\n",
       "      <th>Registered</th>\n",
       "      <th>Abstentions</th>\n",
       "      <th>Null</th>\n",
       "      <th>Choice A</th>\n",
       "      <th>Choice B</th>\n",
       "    </tr>\n",
       "  </thead>\n",
       "  <tbody>\n",
       "    <tr>\n",
       "      <td>0</td>\n",
       "      <td>01</td>\n",
       "      <td>AIN</td>\n",
       "      <td>1</td>\n",
       "      <td>L'Abergement-Clémenciat</td>\n",
       "      <td>592</td>\n",
       "      <td>84</td>\n",
       "      <td>9</td>\n",
       "      <td>154</td>\n",
       "      <td>345</td>\n",
       "    </tr>\n",
       "    <tr>\n",
       "      <td>1</td>\n",
       "      <td>01</td>\n",
       "      <td>AIN</td>\n",
       "      <td>2</td>\n",
       "      <td>L'Abergement-de-Varey</td>\n",
       "      <td>215</td>\n",
       "      <td>36</td>\n",
       "      <td>5</td>\n",
       "      <td>66</td>\n",
       "      <td>108</td>\n",
       "    </tr>\n",
       "    <tr>\n",
       "      <td>2</td>\n",
       "      <td>01</td>\n",
       "      <td>AIN</td>\n",
       "      <td>4</td>\n",
       "      <td>Ambérieu-en-Bugey</td>\n",
       "      <td>8205</td>\n",
       "      <td>1698</td>\n",
       "      <td>126</td>\n",
       "      <td>2717</td>\n",
       "      <td>3664</td>\n",
       "    </tr>\n",
       "    <tr>\n",
       "      <td>3</td>\n",
       "      <td>01</td>\n",
       "      <td>AIN</td>\n",
       "      <td>5</td>\n",
       "      <td>Ambérieux-en-Dombes</td>\n",
       "      <td>1152</td>\n",
       "      <td>170</td>\n",
       "      <td>18</td>\n",
       "      <td>280</td>\n",
       "      <td>684</td>\n",
       "    </tr>\n",
       "    <tr>\n",
       "      <td>4</td>\n",
       "      <td>01</td>\n",
       "      <td>AIN</td>\n",
       "      <td>6</td>\n",
       "      <td>Ambléon</td>\n",
       "      <td>105</td>\n",
       "      <td>17</td>\n",
       "      <td>1</td>\n",
       "      <td>35</td>\n",
       "      <td>52</td>\n",
       "    </tr>\n",
       "  </tbody>\n",
       "</table>\n",
       "</div>"
      ],
      "text/plain": [
       "  Department code Department name  Town code                Town name  \\\n",
       "0              01             AIN          1  L'Abergement-Clémenciat   \n",
       "1              01             AIN          2    L'Abergement-de-Varey   \n",
       "2              01             AIN          4        Ambérieu-en-Bugey   \n",
       "3              01             AIN          5      Ambérieux-en-Dombes   \n",
       "4              01             AIN          6                  Ambléon   \n",
       "\n",
       "   Registered  Abstentions  Null  Choice A  Choice B  \n",
       "0         592           84     9       154       345  \n",
       "1         215           36     5        66       108  \n",
       "2        8205         1698   126      2717      3664  \n",
       "3        1152          170    18       280       684  \n",
       "4         105           17     1        35        52  "
      ]
     },
     "execution_count": 56,
     "metadata": {},
     "output_type": "execute_result"
    }
   ],
   "source": [
    "# %load solutions/26_solutions.py\n",
    "df_referendum['Department code'] = df_referendum['Department code'].apply(\n",
    "    lambda x: '0' + x if len(x) == 1 else x\n",
    ")\n",
    "df_referendum.head()\n"
   ]
  },
  {
   "cell_type": "markdown",
   "metadata": {},
   "source": [
    "* Load the information related to the regions from the file `data/regions.csv`. Show the 5 first rows."
   ]
  },
  {
   "cell_type": "code",
   "execution_count": 58,
   "metadata": {},
   "outputs": [
    {
     "data": {
      "text/html": [
       "<div>\n",
       "<style scoped>\n",
       "    .dataframe tbody tr th:only-of-type {\n",
       "        vertical-align: middle;\n",
       "    }\n",
       "\n",
       "    .dataframe tbody tr th {\n",
       "        vertical-align: top;\n",
       "    }\n",
       "\n",
       "    .dataframe thead th {\n",
       "        text-align: right;\n",
       "    }\n",
       "</style>\n",
       "<table border=\"1\" class=\"dataframe\">\n",
       "  <thead>\n",
       "    <tr style=\"text-align: right;\">\n",
       "      <th></th>\n",
       "      <th>id</th>\n",
       "      <th>code</th>\n",
       "      <th>name</th>\n",
       "      <th>slug</th>\n",
       "    </tr>\n",
       "  </thead>\n",
       "  <tbody>\n",
       "    <tr>\n",
       "      <td>0</td>\n",
       "      <td>1</td>\n",
       "      <td>01</td>\n",
       "      <td>Guadeloupe</td>\n",
       "      <td>guadeloupe</td>\n",
       "    </tr>\n",
       "    <tr>\n",
       "      <td>1</td>\n",
       "      <td>2</td>\n",
       "      <td>02</td>\n",
       "      <td>Martinique</td>\n",
       "      <td>martinique</td>\n",
       "    </tr>\n",
       "    <tr>\n",
       "      <td>2</td>\n",
       "      <td>3</td>\n",
       "      <td>03</td>\n",
       "      <td>Guyane</td>\n",
       "      <td>guyane</td>\n",
       "    </tr>\n",
       "    <tr>\n",
       "      <td>3</td>\n",
       "      <td>4</td>\n",
       "      <td>04</td>\n",
       "      <td>La Réunion</td>\n",
       "      <td>la reunion</td>\n",
       "    </tr>\n",
       "    <tr>\n",
       "      <td>4</td>\n",
       "      <td>5</td>\n",
       "      <td>06</td>\n",
       "      <td>Mayotte</td>\n",
       "      <td>mayotte</td>\n",
       "    </tr>\n",
       "  </tbody>\n",
       "</table>\n",
       "</div>"
      ],
      "text/plain": [
       "   id code        name        slug\n",
       "0   1   01  Guadeloupe  guadeloupe\n",
       "1   2   02  Martinique  martinique\n",
       "2   3   03      Guyane      guyane\n",
       "3   4   04  La Réunion  la reunion\n",
       "4   5   06     Mayotte     mayotte"
      ]
     },
     "execution_count": 58,
     "metadata": {},
     "output_type": "execute_result"
    }
   ],
   "source": [
    "# %load solutions/27_solutions.py\n",
    "df_regions = pd.read_csv(os.path.join('data', 'regions.csv'))\n",
    "df_regions.head()\n"
   ]
  },
  {
   "cell_type": "markdown",
   "metadata": {},
   "source": [
    "* Lead the information related to the departments from the file `data/departments.csv`. Show the 5 first rows."
   ]
  },
  {
   "cell_type": "code",
   "execution_count": 60,
   "metadata": {},
   "outputs": [
    {
     "data": {
      "text/html": [
       "<div>\n",
       "<style scoped>\n",
       "    .dataframe tbody tr th:only-of-type {\n",
       "        vertical-align: middle;\n",
       "    }\n",
       "\n",
       "    .dataframe tbody tr th {\n",
       "        vertical-align: top;\n",
       "    }\n",
       "\n",
       "    .dataframe thead th {\n",
       "        text-align: right;\n",
       "    }\n",
       "</style>\n",
       "<table border=\"1\" class=\"dataframe\">\n",
       "  <thead>\n",
       "    <tr style=\"text-align: right;\">\n",
       "      <th></th>\n",
       "      <th>id</th>\n",
       "      <th>region_code</th>\n",
       "      <th>code</th>\n",
       "      <th>name</th>\n",
       "      <th>slug</th>\n",
       "    </tr>\n",
       "  </thead>\n",
       "  <tbody>\n",
       "    <tr>\n",
       "      <td>0</td>\n",
       "      <td>1</td>\n",
       "      <td>84</td>\n",
       "      <td>01</td>\n",
       "      <td>Ain</td>\n",
       "      <td>ain</td>\n",
       "    </tr>\n",
       "    <tr>\n",
       "      <td>1</td>\n",
       "      <td>2</td>\n",
       "      <td>32</td>\n",
       "      <td>02</td>\n",
       "      <td>Aisne</td>\n",
       "      <td>aisne</td>\n",
       "    </tr>\n",
       "    <tr>\n",
       "      <td>2</td>\n",
       "      <td>3</td>\n",
       "      <td>84</td>\n",
       "      <td>03</td>\n",
       "      <td>Allier</td>\n",
       "      <td>allier</td>\n",
       "    </tr>\n",
       "    <tr>\n",
       "      <td>3</td>\n",
       "      <td>4</td>\n",
       "      <td>93</td>\n",
       "      <td>04</td>\n",
       "      <td>Alpes-de-Haute-Provence</td>\n",
       "      <td>alpes de haute provence</td>\n",
       "    </tr>\n",
       "    <tr>\n",
       "      <td>4</td>\n",
       "      <td>5</td>\n",
       "      <td>93</td>\n",
       "      <td>05</td>\n",
       "      <td>Hautes-Alpes</td>\n",
       "      <td>hautes alpes</td>\n",
       "    </tr>\n",
       "  </tbody>\n",
       "</table>\n",
       "</div>"
      ],
      "text/plain": [
       "   id region_code code                     name                     slug\n",
       "0   1          84   01                      Ain                      ain\n",
       "1   2          32   02                    Aisne                    aisne\n",
       "2   3          84   03                   Allier                   allier\n",
       "3   4          93   04  Alpes-de-Haute-Provence  alpes de haute provence\n",
       "4   5          93   05             Hautes-Alpes             hautes alpes"
      ]
     },
     "execution_count": 60,
     "metadata": {},
     "output_type": "execute_result"
    }
   ],
   "source": [
    "# %load solutions/28_solutions.py\n",
    "df_departments = pd.read_csv(os.path.join('data', 'departments.csv'))\n",
    "df_departments.head()\n"
   ]
  },
  {
   "cell_type": "markdown",
   "metadata": {},
   "source": [
    "* Find the column in the departments dataframe which is related to the `code` column of the regions dataframe. Merge both dataframe using these informations. Show the 5 first rows of the resulting dataframe."
   ]
  },
  {
   "cell_type": "code",
   "execution_count": 62,
   "metadata": {},
   "outputs": [
    {
     "data": {
      "text/html": [
       "<div>\n",
       "<style scoped>\n",
       "    .dataframe tbody tr th:only-of-type {\n",
       "        vertical-align: middle;\n",
       "    }\n",
       "\n",
       "    .dataframe tbody tr th {\n",
       "        vertical-align: top;\n",
       "    }\n",
       "\n",
       "    .dataframe thead th {\n",
       "        text-align: right;\n",
       "    }\n",
       "</style>\n",
       "<table border=\"1\" class=\"dataframe\">\n",
       "  <thead>\n",
       "    <tr style=\"text-align: right;\">\n",
       "      <th></th>\n",
       "      <th>id_x</th>\n",
       "      <th>region_code</th>\n",
       "      <th>code_x</th>\n",
       "      <th>name_x</th>\n",
       "      <th>slug_x</th>\n",
       "      <th>id_y</th>\n",
       "      <th>code_y</th>\n",
       "      <th>name_y</th>\n",
       "      <th>slug_y</th>\n",
       "    </tr>\n",
       "  </thead>\n",
       "  <tbody>\n",
       "    <tr>\n",
       "      <td>0</td>\n",
       "      <td>1</td>\n",
       "      <td>84</td>\n",
       "      <td>01</td>\n",
       "      <td>Ain</td>\n",
       "      <td>ain</td>\n",
       "      <td>16</td>\n",
       "      <td>84</td>\n",
       "      <td>Auvergne-Rhône-Alpes</td>\n",
       "      <td>auvergne rhone alpes</td>\n",
       "    </tr>\n",
       "    <tr>\n",
       "      <td>1</td>\n",
       "      <td>3</td>\n",
       "      <td>84</td>\n",
       "      <td>03</td>\n",
       "      <td>Allier</td>\n",
       "      <td>allier</td>\n",
       "      <td>16</td>\n",
       "      <td>84</td>\n",
       "      <td>Auvergne-Rhône-Alpes</td>\n",
       "      <td>auvergne rhone alpes</td>\n",
       "    </tr>\n",
       "    <tr>\n",
       "      <td>2</td>\n",
       "      <td>7</td>\n",
       "      <td>84</td>\n",
       "      <td>07</td>\n",
       "      <td>Ardèche</td>\n",
       "      <td>ardeche</td>\n",
       "      <td>16</td>\n",
       "      <td>84</td>\n",
       "      <td>Auvergne-Rhône-Alpes</td>\n",
       "      <td>auvergne rhone alpes</td>\n",
       "    </tr>\n",
       "    <tr>\n",
       "      <td>3</td>\n",
       "      <td>15</td>\n",
       "      <td>84</td>\n",
       "      <td>15</td>\n",
       "      <td>Cantal</td>\n",
       "      <td>cantal</td>\n",
       "      <td>16</td>\n",
       "      <td>84</td>\n",
       "      <td>Auvergne-Rhône-Alpes</td>\n",
       "      <td>auvergne rhone alpes</td>\n",
       "    </tr>\n",
       "    <tr>\n",
       "      <td>4</td>\n",
       "      <td>25</td>\n",
       "      <td>84</td>\n",
       "      <td>26</td>\n",
       "      <td>Drôme</td>\n",
       "      <td>drome</td>\n",
       "      <td>16</td>\n",
       "      <td>84</td>\n",
       "      <td>Auvergne-Rhône-Alpes</td>\n",
       "      <td>auvergne rhone alpes</td>\n",
       "    </tr>\n",
       "  </tbody>\n",
       "</table>\n",
       "</div>"
      ],
      "text/plain": [
       "   id_x region_code code_x   name_x   slug_x  id_y code_y  \\\n",
       "0     1          84     01      Ain      ain    16     84   \n",
       "1     3          84     03   Allier   allier    16     84   \n",
       "2     7          84     07  Ardèche  ardeche    16     84   \n",
       "3    15          84     15   Cantal   cantal    16     84   \n",
       "4    25          84     26    Drôme    drome    16     84   \n",
       "\n",
       "                 name_y                slug_y  \n",
       "0  Auvergne-Rhône-Alpes  auvergne rhone alpes  \n",
       "1  Auvergne-Rhône-Alpes  auvergne rhone alpes  \n",
       "2  Auvergne-Rhône-Alpes  auvergne rhone alpes  \n",
       "3  Auvergne-Rhône-Alpes  auvergne rhone alpes  \n",
       "4  Auvergne-Rhône-Alpes  auvergne rhone alpes  "
      ]
     },
     "execution_count": 62,
     "metadata": {},
     "output_type": "execute_result"
    }
   ],
   "source": [
    "# %load solutions/29_solutions.py\n",
    "# pd.merge(df_departments, df_regions, how='inner', left_on='region_code', right_on='code')\n",
    "df_reg_dep = df_departments.merge(df_regions, how='inner', left_on='region_code', right_on='code')\n",
    "df_reg_dep.head()\n"
   ]
  },
  {
   "cell_type": "markdown",
   "metadata": {},
   "source": [
    "* In the previous dataframe as column linked to the department code which could be merged with our referendum data as we did previously. Since we already got information about the regions, we can get the regions dataframe with a new merge. Show the 5 first rows of the merged dataframe."
   ]
  },
  {
   "cell_type": "code",
   "execution_count": 64,
   "metadata": {},
   "outputs": [
    {
     "data": {
      "text/html": [
       "<div>\n",
       "<style scoped>\n",
       "    .dataframe tbody tr th:only-of-type {\n",
       "        vertical-align: middle;\n",
       "    }\n",
       "\n",
       "    .dataframe tbody tr th {\n",
       "        vertical-align: top;\n",
       "    }\n",
       "\n",
       "    .dataframe thead th {\n",
       "        text-align: right;\n",
       "    }\n",
       "</style>\n",
       "<table border=\"1\" class=\"dataframe\">\n",
       "  <thead>\n",
       "    <tr style=\"text-align: right;\">\n",
       "      <th></th>\n",
       "      <th>Department code</th>\n",
       "      <th>Department name</th>\n",
       "      <th>Town code</th>\n",
       "      <th>Town name</th>\n",
       "      <th>Registered</th>\n",
       "      <th>Abstentions</th>\n",
       "      <th>Null</th>\n",
       "      <th>Choice A</th>\n",
       "      <th>Choice B</th>\n",
       "      <th>id_x</th>\n",
       "      <th>region_code</th>\n",
       "      <th>code_x</th>\n",
       "      <th>name_x</th>\n",
       "      <th>slug_x</th>\n",
       "      <th>id_y</th>\n",
       "      <th>code_y</th>\n",
       "      <th>name_y</th>\n",
       "      <th>slug_y</th>\n",
       "    </tr>\n",
       "  </thead>\n",
       "  <tbody>\n",
       "    <tr>\n",
       "      <td>0</td>\n",
       "      <td>01</td>\n",
       "      <td>AIN</td>\n",
       "      <td>1</td>\n",
       "      <td>L'Abergement-Clémenciat</td>\n",
       "      <td>592</td>\n",
       "      <td>84</td>\n",
       "      <td>9</td>\n",
       "      <td>154</td>\n",
       "      <td>345</td>\n",
       "      <td>1</td>\n",
       "      <td>84</td>\n",
       "      <td>01</td>\n",
       "      <td>Ain</td>\n",
       "      <td>ain</td>\n",
       "      <td>16</td>\n",
       "      <td>84</td>\n",
       "      <td>Auvergne-Rhône-Alpes</td>\n",
       "      <td>auvergne rhone alpes</td>\n",
       "    </tr>\n",
       "    <tr>\n",
       "      <td>1</td>\n",
       "      <td>01</td>\n",
       "      <td>AIN</td>\n",
       "      <td>2</td>\n",
       "      <td>L'Abergement-de-Varey</td>\n",
       "      <td>215</td>\n",
       "      <td>36</td>\n",
       "      <td>5</td>\n",
       "      <td>66</td>\n",
       "      <td>108</td>\n",
       "      <td>1</td>\n",
       "      <td>84</td>\n",
       "      <td>01</td>\n",
       "      <td>Ain</td>\n",
       "      <td>ain</td>\n",
       "      <td>16</td>\n",
       "      <td>84</td>\n",
       "      <td>Auvergne-Rhône-Alpes</td>\n",
       "      <td>auvergne rhone alpes</td>\n",
       "    </tr>\n",
       "    <tr>\n",
       "      <td>2</td>\n",
       "      <td>01</td>\n",
       "      <td>AIN</td>\n",
       "      <td>4</td>\n",
       "      <td>Ambérieu-en-Bugey</td>\n",
       "      <td>8205</td>\n",
       "      <td>1698</td>\n",
       "      <td>126</td>\n",
       "      <td>2717</td>\n",
       "      <td>3664</td>\n",
       "      <td>1</td>\n",
       "      <td>84</td>\n",
       "      <td>01</td>\n",
       "      <td>Ain</td>\n",
       "      <td>ain</td>\n",
       "      <td>16</td>\n",
       "      <td>84</td>\n",
       "      <td>Auvergne-Rhône-Alpes</td>\n",
       "      <td>auvergne rhone alpes</td>\n",
       "    </tr>\n",
       "    <tr>\n",
       "      <td>3</td>\n",
       "      <td>01</td>\n",
       "      <td>AIN</td>\n",
       "      <td>5</td>\n",
       "      <td>Ambérieux-en-Dombes</td>\n",
       "      <td>1152</td>\n",
       "      <td>170</td>\n",
       "      <td>18</td>\n",
       "      <td>280</td>\n",
       "      <td>684</td>\n",
       "      <td>1</td>\n",
       "      <td>84</td>\n",
       "      <td>01</td>\n",
       "      <td>Ain</td>\n",
       "      <td>ain</td>\n",
       "      <td>16</td>\n",
       "      <td>84</td>\n",
       "      <td>Auvergne-Rhône-Alpes</td>\n",
       "      <td>auvergne rhone alpes</td>\n",
       "    </tr>\n",
       "    <tr>\n",
       "      <td>4</td>\n",
       "      <td>01</td>\n",
       "      <td>AIN</td>\n",
       "      <td>6</td>\n",
       "      <td>Ambléon</td>\n",
       "      <td>105</td>\n",
       "      <td>17</td>\n",
       "      <td>1</td>\n",
       "      <td>35</td>\n",
       "      <td>52</td>\n",
       "      <td>1</td>\n",
       "      <td>84</td>\n",
       "      <td>01</td>\n",
       "      <td>Ain</td>\n",
       "      <td>ain</td>\n",
       "      <td>16</td>\n",
       "      <td>84</td>\n",
       "      <td>Auvergne-Rhône-Alpes</td>\n",
       "      <td>auvergne rhone alpes</td>\n",
       "    </tr>\n",
       "  </tbody>\n",
       "</table>\n",
       "</div>"
      ],
      "text/plain": [
       "  Department code Department name  Town code                Town name  \\\n",
       "0              01             AIN          1  L'Abergement-Clémenciat   \n",
       "1              01             AIN          2    L'Abergement-de-Varey   \n",
       "2              01             AIN          4        Ambérieu-en-Bugey   \n",
       "3              01             AIN          5      Ambérieux-en-Dombes   \n",
       "4              01             AIN          6                  Ambléon   \n",
       "\n",
       "   Registered  Abstentions  Null  Choice A  Choice B  id_x region_code code_x  \\\n",
       "0         592           84     9       154       345     1          84     01   \n",
       "1         215           36     5        66       108     1          84     01   \n",
       "2        8205         1698   126      2717      3664     1          84     01   \n",
       "3        1152          170    18       280       684     1          84     01   \n",
       "4         105           17     1        35        52     1          84     01   \n",
       "\n",
       "  name_x slug_x  id_y code_y                name_y                slug_y  \n",
       "0    Ain    ain    16     84  Auvergne-Rhône-Alpes  auvergne rhone alpes  \n",
       "1    Ain    ain    16     84  Auvergne-Rhône-Alpes  auvergne rhone alpes  \n",
       "2    Ain    ain    16     84  Auvergne-Rhône-Alpes  auvergne rhone alpes  \n",
       "3    Ain    ain    16     84  Auvergne-Rhône-Alpes  auvergne rhone alpes  \n",
       "4    Ain    ain    16     84  Auvergne-Rhône-Alpes  auvergne rhone alpes  "
      ]
     },
     "execution_count": 64,
     "metadata": {},
     "output_type": "execute_result"
    }
   ],
   "source": [
    "# %load solutions/30_solutions.py\n",
    "df = df_referendum.merge(df_reg_dep, how='inner', left_on='Department code', right_on='code_x')\n",
    "df.head()\n"
   ]
  },
  {
   "cell_type": "markdown",
   "metadata": {},
   "source": [
    "* Group and add up the vote by region and show the resulting dataframe."
   ]
  },
  {
   "cell_type": "code",
   "execution_count": 66,
   "metadata": {},
   "outputs": [
    {
     "data": {
      "text/html": [
       "<div>\n",
       "<style scoped>\n",
       "    .dataframe tbody tr th:only-of-type {\n",
       "        vertical-align: middle;\n",
       "    }\n",
       "\n",
       "    .dataframe tbody tr th {\n",
       "        vertical-align: top;\n",
       "    }\n",
       "\n",
       "    .dataframe thead th {\n",
       "        text-align: right;\n",
       "    }\n",
       "</style>\n",
       "<table border=\"1\" class=\"dataframe\">\n",
       "  <thead>\n",
       "    <tr style=\"text-align: right;\">\n",
       "      <th></th>\n",
       "      <th></th>\n",
       "      <th>Town code</th>\n",
       "      <th>Registered</th>\n",
       "      <th>Abstentions</th>\n",
       "      <th>Null</th>\n",
       "      <th>Choice A</th>\n",
       "      <th>Choice B</th>\n",
       "      <th>id_x</th>\n",
       "      <th>id_y</th>\n",
       "    </tr>\n",
       "    <tr>\n",
       "      <th>code_y</th>\n",
       "      <th>name_y</th>\n",
       "      <th></th>\n",
       "      <th></th>\n",
       "      <th></th>\n",
       "      <th></th>\n",
       "      <th></th>\n",
       "      <th></th>\n",
       "      <th></th>\n",
       "      <th></th>\n",
       "    </tr>\n",
       "  </thead>\n",
       "  <tbody>\n",
       "    <tr>\n",
       "      <td>11</td>\n",
       "      <td>Île-de-France</td>\n",
       "      <td>362162</td>\n",
       "      <td>6942361</td>\n",
       "      <td>1515884</td>\n",
       "      <td>85997</td>\n",
       "      <td>2536620</td>\n",
       "      <td>2803860</td>\n",
       "      <td>108231</td>\n",
       "      <td>7686</td>\n",
       "    </tr>\n",
       "    <tr>\n",
       "      <td>24</td>\n",
       "      <td>Centre-Val de Loire</td>\n",
       "      <td>299535</td>\n",
       "      <td>1801366</td>\n",
       "      <td>326560</td>\n",
       "      <td>28827</td>\n",
       "      <td>590890</td>\n",
       "      <td>855089</td>\n",
       "      <td>63325</td>\n",
       "      <td>12887</td>\n",
       "    </tr>\n",
       "    <tr>\n",
       "      <td>27</td>\n",
       "      <td>Bourgogne-Franche-Comté</td>\n",
       "      <td>1095634</td>\n",
       "      <td>1997925</td>\n",
       "      <td>358321</td>\n",
       "      <td>33671</td>\n",
       "      <td>668246</td>\n",
       "      <td>937687</td>\n",
       "      <td>198727</td>\n",
       "      <td>30648</td>\n",
       "    </tr>\n",
       "    <tr>\n",
       "      <td>28</td>\n",
       "      <td>Normandie</td>\n",
       "      <td>1115294</td>\n",
       "      <td>2372779</td>\n",
       "      <td>426075</td>\n",
       "      <td>35513</td>\n",
       "      <td>816972</td>\n",
       "      <td>1094219</td>\n",
       "      <td>146683</td>\n",
       "      <td>29079</td>\n",
       "    </tr>\n",
       "    <tr>\n",
       "      <td>32</td>\n",
       "      <td>Hauts-de-France</td>\n",
       "      <td>1533397</td>\n",
       "      <td>4210444</td>\n",
       "      <td>866555</td>\n",
       "      <td>60601</td>\n",
       "      <td>1411257</td>\n",
       "      <td>1872031</td>\n",
       "      <td>202632</td>\n",
       "      <td>38360</td>\n",
       "    </tr>\n",
       "    <tr>\n",
       "      <td>44</td>\n",
       "      <td>Grand Est</td>\n",
       "      <td>1502456</td>\n",
       "      <td>3857089</td>\n",
       "      <td>783348</td>\n",
       "      <td>56951</td>\n",
       "      <td>1088684</td>\n",
       "      <td>1928106</td>\n",
       "      <td>273846</td>\n",
       "      <td>57101</td>\n",
       "    </tr>\n",
       "    <tr>\n",
       "      <td>52</td>\n",
       "      <td>Pays de la Loire</td>\n",
       "      <td>245308</td>\n",
       "      <td>2605438</td>\n",
       "      <td>412509</td>\n",
       "      <td>47677</td>\n",
       "      <td>922468</td>\n",
       "      <td>1222784</td>\n",
       "      <td>93816</td>\n",
       "      <td>18024</td>\n",
       "    </tr>\n",
       "    <tr>\n",
       "      <td>53</td>\n",
       "      <td>Bretagne</td>\n",
       "      <td>214573</td>\n",
       "      <td>2380594</td>\n",
       "      <td>364724</td>\n",
       "      <td>36077</td>\n",
       "      <td>944052</td>\n",
       "      <td>1035741</td>\n",
       "      <td>43342</td>\n",
       "      <td>16510</td>\n",
       "    </tr>\n",
       "    <tr>\n",
       "      <td>75</td>\n",
       "      <td>Nouvelle-Aquitaine</td>\n",
       "      <td>968048</td>\n",
       "      <td>4201774</td>\n",
       "      <td>711017</td>\n",
       "      <td>71629</td>\n",
       "      <td>1641249</td>\n",
       "      <td>1777879</td>\n",
       "      <td>187854</td>\n",
       "      <td>63070</td>\n",
       "    </tr>\n",
       "    <tr>\n",
       "      <td>76</td>\n",
       "      <td>Occitanie</td>\n",
       "      <td>896262</td>\n",
       "      <td>4008516</td>\n",
       "      <td>660914</td>\n",
       "      <td>62732</td>\n",
       "      <td>1528980</td>\n",
       "      <td>1755890</td>\n",
       "      <td>182671</td>\n",
       "      <td>68475</td>\n",
       "    </tr>\n",
       "    <tr>\n",
       "      <td>84</td>\n",
       "      <td>Auvergne-Rhône-Alpes</td>\n",
       "      <td>807016</td>\n",
       "      <td>5227873</td>\n",
       "      <td>909284</td>\n",
       "      <td>81817</td>\n",
       "      <td>1791857</td>\n",
       "      <td>2444915</td>\n",
       "      <td>158375</td>\n",
       "      <td>67024</td>\n",
       "    </tr>\n",
       "    <tr>\n",
       "      <td>93</td>\n",
       "      <td>Provence-Alpes-Côte d'Azur</td>\n",
       "      <td>85250</td>\n",
       "      <td>3436084</td>\n",
       "      <td>666729</td>\n",
       "      <td>44706</td>\n",
       "      <td>998439</td>\n",
       "      <td>1726210</td>\n",
       "      <td>29897</td>\n",
       "      <td>16371</td>\n",
       "    </tr>\n",
       "    <tr>\n",
       "      <td>94</td>\n",
       "      <td>Corse</td>\n",
       "      <td>66034</td>\n",
       "      <td>220349</td>\n",
       "      <td>56696</td>\n",
       "      <td>2921</td>\n",
       "      <td>60917</td>\n",
       "      <td>99815</td>\n",
       "      <td>10676</td>\n",
       "      <td>6480</td>\n",
       "    </tr>\n",
       "  </tbody>\n",
       "</table>\n",
       "</div>"
      ],
      "text/plain": [
       "                                   Town code  Registered  Abstentions   Null  \\\n",
       "code_y name_y                                                                  \n",
       "11     Île-de-France                  362162     6942361      1515884  85997   \n",
       "24     Centre-Val de Loire            299535     1801366       326560  28827   \n",
       "27     Bourgogne-Franche-Comté       1095634     1997925       358321  33671   \n",
       "28     Normandie                     1115294     2372779       426075  35513   \n",
       "32     Hauts-de-France               1533397     4210444       866555  60601   \n",
       "44     Grand Est                     1502456     3857089       783348  56951   \n",
       "52     Pays de la Loire               245308     2605438       412509  47677   \n",
       "53     Bretagne                       214573     2380594       364724  36077   \n",
       "75     Nouvelle-Aquitaine             968048     4201774       711017  71629   \n",
       "76     Occitanie                      896262     4008516       660914  62732   \n",
       "84     Auvergne-Rhône-Alpes           807016     5227873       909284  81817   \n",
       "93     Provence-Alpes-Côte d'Azur      85250     3436084       666729  44706   \n",
       "94     Corse                           66034      220349        56696   2921   \n",
       "\n",
       "                                   Choice A  Choice B    id_x   id_y  \n",
       "code_y name_y                                                         \n",
       "11     Île-de-France                2536620   2803860  108231   7686  \n",
       "24     Centre-Val de Loire           590890    855089   63325  12887  \n",
       "27     Bourgogne-Franche-Comté       668246    937687  198727  30648  \n",
       "28     Normandie                     816972   1094219  146683  29079  \n",
       "32     Hauts-de-France              1411257   1872031  202632  38360  \n",
       "44     Grand Est                    1088684   1928106  273846  57101  \n",
       "52     Pays de la Loire              922468   1222784   93816  18024  \n",
       "53     Bretagne                      944052   1035741   43342  16510  \n",
       "75     Nouvelle-Aquitaine           1641249   1777879  187854  63070  \n",
       "76     Occitanie                    1528980   1755890  182671  68475  \n",
       "84     Auvergne-Rhône-Alpes         1791857   2444915  158375  67024  \n",
       "93     Provence-Alpes-Côte d'Azur    998439   1726210   29897  16371  \n",
       "94     Corse                          60917     99815   10676   6480  "
      ]
     },
     "execution_count": 66,
     "metadata": {},
     "output_type": "execute_result"
    }
   ],
   "source": [
    "# %load solutions/31_solutions.py\n",
    "regions_vote = df.groupby(['code_y', 'name_y']).sum()\n",
    "regions_vote\n"
   ]
  },
  {
   "cell_type": "markdown",
   "metadata": {},
   "source": [
    "* Taking example on the previous case, plot the vote for the \"choice A\" and \"choice B\". Use the file `regions.geojson` instead of `departments.geojson`."
   ]
  },
  {
   "cell_type": "code",
   "execution_count": 68,
   "metadata": {},
   "outputs": [],
   "source": [
    "# %load solutions/32_solutions.py\n",
    "gdf_regions = gpd.read_file(os.path.join('data', 'regions.geojson'))\n",
    "gdf_regions = gdf_regions.merge(regions_vote, how='inner', left_on='code', right_on='code_y')\n",
    "\n",
    "gdf_normalized = gdf_regions.copy()\n",
    "gdf_normalized['Choice A'] /= gdf_regions[['Choice A', 'Choice B']].sum(axis=1)\n",
    "gdf_normalized['Choice B'] /= gdf_regions[['Choice A', 'Choice B']].sum(axis=1)\n"
   ]
  },
  {
   "cell_type": "code",
   "execution_count": 70,
   "metadata": {},
   "outputs": [
    {
     "data": {
      "text/plain": [
       "<matplotlib.axes._subplots.AxesSubplot at 0x7faffff37310>"
      ]
     },
     "execution_count": 70,
     "metadata": {},
     "output_type": "execute_result"
    },
    {
     "data": {
      "image/png": "[encoded data removed]",
      "text/plain": [
       "<Figure size 432x288 with 1 Axes>"
      ]
     },
     "metadata": {
      "needs_background": "light"
     },
     "output_type": "display_data"
    }
   ],
   "source": [
    "# %load solutions/33_solutions.py\n",
    "gdf_normalized.plot(column='Choice B')\n"
   ]
  },
  {
   "cell_type": "code",
   "execution_count": 72,
   "metadata": {},
   "outputs": [
    {
     "data": {
      "text/plain": [
       "<matplotlib.axes._subplots.AxesSubplot at 0x7faff5cbf1d0>"
      ]
     },
     "execution_count": 72,
     "metadata": {},
     "output_type": "execute_result"
    },
    {
     "data": {
      "image/png": "[encoded data removed]",
      "text/plain": [
       "<Figure size 432x288 with 1 Axes>"
      ]
     },
     "metadata": {
      "needs_background": "light"
     },
     "output_type": "display_data"
    }
   ],
   "source": [
    "# %load solutions/34_solutions.py\n",
    "gdf_normalized.plot(column='Choice A')\n"
   ]
  },
  {
   "cell_type": "code",
   "execution_count": null,
   "metadata": {},
   "outputs": [],
   "source": []
  }
 ],
 "metadata": {
  "kernelspec": {
   "display_name": "Python 3",
   "language": "python",
   "name": "python3"
  },
  "language_info": {
   "codemirror_mode": {
    "name": "ipython",
    "version": 3
   },
   "file_extension": ".py",
   "mimetype": "text/x-python",
   "name": "python",
   "nbconvert_exporter": "python",
   "pygments_lexer": "ipython3",
   "version": "3.7.4"
  }
 },
 "nbformat": 4,
 "nbformat_minor": 4
}
